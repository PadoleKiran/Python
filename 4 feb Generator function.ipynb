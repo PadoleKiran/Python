{
 "cells": [
  {
   "cell_type": "markdown",
   "id": "65777112",
   "metadata": {},
   "source": [
    "# generator function"
   ]
  },
  {
   "cell_type": "code",
   "execution_count": 8,
   "id": "23f49478",
   "metadata": {},
   "outputs": [],
   "source": [
    "#generator function not gives data directly single time it gives one by one"
   ]
  },
  {
   "cell_type": "code",
   "execution_count": 9,
   "id": "bf929105",
   "metadata": {},
   "outputs": [],
   "source": [
    "def fibo(n):  #in this function we not return any return statement yield gives us values\n",
    "    a,b = 0,1\n",
    "    for i in range(n):\n",
    "        yield a       #yield funcion give data \n",
    "        a,b= b,b+a"
   ]
  },
  {
   "cell_type": "code",
   "execution_count": 5,
   "id": "7969e713",
   "metadata": {},
   "outputs": [
    {
     "data": {
      "text/plain": [
       "<generator object fibo at 0x0000013962C456C0>"
      ]
     },
     "execution_count": 5,
     "metadata": {},
     "output_type": "execute_result"
    }
   ],
   "source": [
    "fibo(10)  #this function can give us object id"
   ]
  },
  {
   "cell_type": "code",
   "execution_count": 7,
   "id": "6976d4ae",
   "metadata": {},
   "outputs": [
    {
     "name": "stdout",
     "output_type": "stream",
     "text": [
      "0 1 1 2 3 5 8 13 21 34 "
     ]
    }
   ],
   "source": [
    "for i in fibo(10):\n",
    "    print(i ,end=\" \")"
   ]
  },
  {
   "cell_type": "code",
   "execution_count": 10,
   "id": "160bbeab",
   "metadata": {},
   "outputs": [],
   "source": [
    "#we use this generator function for memory optimization "
   ]
  },
  {
   "cell_type": "code",
   "execution_count": 25,
   "id": "a5a4d014",
   "metadata": {},
   "outputs": [],
   "source": [
    "def fibo2():\n",
    "    a,b = 0,1\n",
    "    while True:\n",
    "        yield a\n",
    "        a,b = b,a+b"
   ]
  },
  {
   "cell_type": "code",
   "execution_count": 26,
   "id": "bcd42248",
   "metadata": {},
   "outputs": [],
   "source": [
    "fib = fibo2()"
   ]
  },
  {
   "cell_type": "code",
   "execution_count": 27,
   "id": "48e6a88d",
   "metadata": {},
   "outputs": [
    {
     "name": "stdout",
     "output_type": "stream",
     "text": [
      "0 1 1 2 3 5 8 13 21 34 "
     ]
    }
   ],
   "source": [
    "for i in range(10):\n",
    "    print(next(fib),end=\" \")"
   ]
  },
  {
   "cell_type": "code",
   "execution_count": null,
   "id": "17ff0cdb",
   "metadata": {},
   "outputs": [],
   "source": []
  },
  {
   "cell_type": "code",
   "execution_count": 28,
   "id": "59fe5f93",
   "metadata": {},
   "outputs": [
    {
     "name": "stdout",
     "output_type": "stream",
     "text": [
      "k\n",
      "i\n",
      "r\n",
      "a\n",
      "n\n"
     ]
    }
   ],
   "source": [
    "n = \"kiran\"\n",
    "for i in n:\n",
    "    print(i)"
   ]
  },
  {
   "cell_type": "code",
   "execution_count": 29,
   "id": "1cad9927",
   "metadata": {},
   "outputs": [
    {
     "ename": "TypeError",
     "evalue": "'str' object is not an iterator",
     "output_type": "error",
     "traceback": [
      "\u001b[1;31m---------------------------------------------------------------------------\u001b[0m",
      "\u001b[1;31mTypeError\u001b[0m                                 Traceback (most recent call last)",
      "Cell \u001b[1;32mIn [29], line 1\u001b[0m\n\u001b[1;32m----> 1\u001b[0m \u001b[38;5;28;43mnext\u001b[39;49m\u001b[43m(\u001b[49m\u001b[43mn\u001b[49m\u001b[43m)\u001b[49m\n",
      "\u001b[1;31mTypeError\u001b[0m: 'str' object is not an iterator"
     ]
    }
   ],
   "source": [
    "next(n)"
   ]
  },
  {
   "cell_type": "code",
   "execution_count": 30,
   "id": "8599ce15",
   "metadata": {},
   "outputs": [],
   "source": [
    "s = iter(n)"
   ]
  },
  {
   "cell_type": "code",
   "execution_count": 32,
   "id": "b8eab4f0",
   "metadata": {},
   "outputs": [
    {
     "data": {
      "text/plain": [
       "'k'"
      ]
     },
     "execution_count": 32,
     "metadata": {},
     "output_type": "execute_result"
    }
   ],
   "source": [
    "next(s)"
   ]
  },
  {
   "cell_type": "code",
   "execution_count": 33,
   "id": "ac4d5fec",
   "metadata": {},
   "outputs": [
    {
     "data": {
      "text/plain": [
       "'i'"
      ]
     },
     "execution_count": 33,
     "metadata": {},
     "output_type": "execute_result"
    }
   ],
   "source": [
    "next(s)"
   ]
  },
  {
   "cell_type": "code",
   "execution_count": 34,
   "id": "b0e9492b",
   "metadata": {},
   "outputs": [
    {
     "data": {
      "text/plain": [
       "'r'"
      ]
     },
     "execution_count": 34,
     "metadata": {},
     "output_type": "execute_result"
    }
   ],
   "source": [
    "next(s)"
   ]
  },
  {
   "cell_type": "code",
   "execution_count": 40,
   "id": "8b1c8ff4",
   "metadata": {},
   "outputs": [],
   "source": [
    "#string is not iterable object \n",
    "#next() next function can take next next value from pointer\n",
    "#basically if object is itrable then and then only next function work"
   ]
  },
  {
   "cell_type": "code",
   "execution_count": 37,
   "id": "981f5b82",
   "metadata": {},
   "outputs": [
    {
     "data": {
      "text/plain": [
       "str"
      ]
     },
     "execution_count": 37,
     "metadata": {},
     "output_type": "execute_result"
    }
   ],
   "source": [
    "type(n)"
   ]
  },
  {
   "cell_type": "code",
   "execution_count": 39,
   "id": "57b51081",
   "metadata": {},
   "outputs": [
    {
     "data": {
      "text/plain": [
       "str_ascii_iterator"
      ]
     },
     "execution_count": 39,
     "metadata": {},
     "output_type": "execute_result"
    }
   ],
   "source": [
    "type(s) #now string is iterator object"
   ]
  },
  {
   "cell_type": "code",
   "execution_count": 41,
   "id": "feaae7f3",
   "metadata": {},
   "outputs": [
    {
     "data": {
      "text/plain": [
       "'a'"
      ]
     },
     "execution_count": 41,
     "metadata": {},
     "output_type": "execute_result"
    }
   ],
   "source": [
    "next(s)"
   ]
  },
  {
   "cell_type": "code",
   "execution_count": 42,
   "id": "2c2a5e4e",
   "metadata": {},
   "outputs": [
    {
     "data": {
      "text/plain": [
       "'n'"
      ]
     },
     "execution_count": 42,
     "metadata": {},
     "output_type": "execute_result"
    }
   ],
   "source": [
    "next(s)"
   ]
  },
  {
   "cell_type": "code",
   "execution_count": 44,
   "id": "7899689b",
   "metadata": {},
   "outputs": [
    {
     "ename": "StopIteration",
     "evalue": "",
     "output_type": "error",
     "traceback": [
      "\u001b[1;31m---------------------------------------------------------------------------\u001b[0m",
      "\u001b[1;31mStopIteration\u001b[0m                             Traceback (most recent call last)",
      "Cell \u001b[1;32mIn [44], line 1\u001b[0m\n\u001b[1;32m----> 1\u001b[0m \u001b[38;5;28;43mnext\u001b[39;49m\u001b[43m(\u001b[49m\u001b[43ms\u001b[49m\u001b[43m)\u001b[49m \u001b[38;5;66;03m#not data is finish stop iteration\u001b[39;00m\n",
      "\u001b[1;31mStopIteration\u001b[0m: "
     ]
    }
   ],
   "source": [
    "next(s) #not data is finish stop iteration"
   ]
  },
  {
   "cell_type": "code",
   "execution_count": 45,
   "id": "6076272b",
   "metadata": {},
   "outputs": [],
   "source": [
    "#how to work for loop ?\n",
    "#-> for loop use interbally iter() and the use next() next for taking values\n",
    "#and give values one by one"
   ]
  },
  {
   "cell_type": "code",
   "execution_count": 46,
   "id": "d7c9026e",
   "metadata": {},
   "outputs": [
    {
     "ename": "TypeError",
     "evalue": "'int' object is not iterable",
     "output_type": "error",
     "traceback": [
      "\u001b[1;31m---------------------------------------------------------------------------\u001b[0m",
      "\u001b[1;31mTypeError\u001b[0m                                 Traceback (most recent call last)",
      "Cell \u001b[1;32mIn [46], line 3\u001b[0m\n\u001b[0;32m      1\u001b[0m \u001b[38;5;66;03m#we can not convert integer or float to itrable object\u001b[39;00m\n\u001b[0;32m      2\u001b[0m a \u001b[38;5;241m=\u001b[39m \u001b[38;5;241m321\u001b[39m\n\u001b[1;32m----> 3\u001b[0m b \u001b[38;5;241m=\u001b[39m \u001b[38;5;28;43miter\u001b[39;49m\u001b[43m(\u001b[49m\u001b[43ma\u001b[49m\u001b[43m)\u001b[49m\n",
      "\u001b[1;31mTypeError\u001b[0m: 'int' object is not iterable"
     ]
    }
   ],
   "source": [
    "#we can not convert integer or float to itrable object\n",
    "a = 321\n",
    "b = iter(a)"
   ]
  },
  {
   "cell_type": "code",
   "execution_count": 49,
   "id": "48aca601",
   "metadata": {},
   "outputs": [],
   "source": [
    "#iterator is data in which we can data next next \n",
    "#iterable is data which we can convert in to iterator  (by using iter())"
   ]
  },
  {
   "cell_type": "code",
   "execution_count": 50,
   "id": "a86f1673",
   "metadata": {},
   "outputs": [],
   "source": [
    "#we can create generator function by using yield function"
   ]
  },
  {
   "cell_type": "code",
   "execution_count": null,
   "id": "b90b0fd0",
   "metadata": {},
   "outputs": [],
   "source": []
  }
 ],
 "metadata": {
  "kernelspec": {
   "display_name": "Python 3 (ipykernel)",
   "language": "python",
   "name": "python3"
  },
  "language_info": {
   "codemirror_mode": {
    "name": "ipython",
    "version": 3
   },
   "file_extension": ".py",
   "mimetype": "text/x-python",
   "name": "python",
   "nbconvert_exporter": "python",
   "pygments_lexer": "ipython3",
   "version": "3.11.0"
  }
 },
 "nbformat": 4,
 "nbformat_minor": 5
}
