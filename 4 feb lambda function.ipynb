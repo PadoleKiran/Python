{
 "cells": [
  {
   "cell_type": "code",
   "execution_count": 1,
   "id": "b31400bf",
   "metadata": {},
   "outputs": [],
   "source": [
    "n = 2\n",
    "p = 2"
   ]
  },
  {
   "cell_type": "code",
   "execution_count": 2,
   "id": "e48e8a9d",
   "metadata": {},
   "outputs": [],
   "source": [
    "def test(n,p):\n",
    "    return n**p"
   ]
  },
  {
   "cell_type": "code",
   "execution_count": 3,
   "id": "53aed174",
   "metadata": {},
   "outputs": [
    {
     "data": {
      "text/plain": [
       "4"
      ]
     },
     "execution_count": 3,
     "metadata": {},
     "output_type": "execute_result"
    }
   ],
   "source": [
    "test(n,p)"
   ]
  },
  {
   "cell_type": "code",
   "execution_count": 6,
   "id": "2fae9dab",
   "metadata": {},
   "outputs": [],
   "source": [
    "a = lambda n,p :n**p  #lambda function is anonimous function"
   ]
  },
  {
   "cell_type": "code",
   "execution_count": 7,
   "id": "b39897e0",
   "metadata": {},
   "outputs": [
    {
     "data": {
      "text/plain": [
       "9"
      ]
     },
     "execution_count": 7,
     "metadata": {},
     "output_type": "execute_result"
    }
   ],
   "source": [
    "a(3,2)"
   ]
  },
  {
   "cell_type": "code",
   "execution_count": 8,
   "id": "d3ff3f8c",
   "metadata": {},
   "outputs": [],
   "source": [
    "add = lambda a,b:a+b"
   ]
  },
  {
   "cell_type": "code",
   "execution_count": 10,
   "id": "21ae43e3",
   "metadata": {},
   "outputs": [
    {
     "data": {
      "text/plain": [
       "90"
      ]
     },
     "execution_count": 10,
     "metadata": {},
     "output_type": "execute_result"
    }
   ],
   "source": [
    "add(50,40)"
   ]
  },
  {
   "cell_type": "code",
   "execution_count": 11,
   "id": "7dec8fc4",
   "metadata": {},
   "outputs": [],
   "source": [
    "#where we want to call function one time then we use lambda function \n",
    "#or our task is to small then we can use lambda function"
   ]
  },
  {
   "cell_type": "code",
   "execution_count": 14,
   "id": "6d84af39",
   "metadata": {},
   "outputs": [],
   "source": [
    "max = lambda n1,n2:n1 if n1>n2 else n2"
   ]
  },
  {
   "cell_type": "code",
   "execution_count": 16,
   "id": "f23d6c66",
   "metadata": {},
   "outputs": [
    {
     "data": {
      "text/plain": [
       "7"
      ]
     },
     "execution_count": 16,
     "metadata": {},
     "output_type": "execute_result"
    }
   ],
   "source": [
    "max(5,7)"
   ]
  },
  {
   "cell_type": "code",
   "execution_count": 18,
   "id": "bdffe492",
   "metadata": {},
   "outputs": [
    {
     "data": {
      "text/plain": [
       "8"
      ]
     },
     "execution_count": 18,
     "metadata": {},
     "output_type": "execute_result"
    }
   ],
   "source": [
    "max(8,5)"
   ]
  },
  {
   "cell_type": "code",
   "execution_count": null,
   "id": "bc637f77",
   "metadata": {},
   "outputs": [],
   "source": []
  }
 ],
 "metadata": {
  "kernelspec": {
   "display_name": "Python 3 (ipykernel)",
   "language": "python",
   "name": "python3"
  },
  "language_info": {
   "codemirror_mode": {
    "name": "ipython",
    "version": 3
   },
   "file_extension": ".py",
   "mimetype": "text/x-python",
   "name": "python",
   "nbconvert_exporter": "python",
   "pygments_lexer": "ipython3",
   "version": "3.11.0"
  }
 },
 "nbformat": 4,
 "nbformat_minor": 5
}
