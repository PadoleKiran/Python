{
 "cells": [
  {
   "cell_type": "code",
   "execution_count": 1,
   "id": "7fc594c7",
   "metadata": {},
   "outputs": [],
   "source": [
    "class test:\n",
    "    def test_first(self):\n",
    "        return \"This is first class\"\n"
   ]
  },
  {
   "cell_type": "code",
   "execution_count": 6,
   "id": "2a7dac37",
   "metadata": {},
   "outputs": [],
   "source": [
    "class child(test):\n",
    "    def test_second(self):\n",
    "        return \"this is secodn class\"\n"
   ]
  },
  {
   "cell_type": "code",
   "execution_count": 7,
   "id": "1defa072",
   "metadata": {},
   "outputs": [],
   "source": [
    "child_obj = child()"
   ]
  },
  {
   "cell_type": "code",
   "execution_count": 8,
   "id": "7c93a42f",
   "metadata": {},
   "outputs": [
    {
     "data": {
      "text/plain": [
       "'This is first class'"
      ]
     },
     "execution_count": 8,
     "metadata": {},
     "output_type": "execute_result"
    }
   ],
   "source": [
    "child_obj.test_first()"
   ]
  },
  {
   "cell_type": "code",
   "execution_count": 9,
   "id": "23d88d6f",
   "metadata": {},
   "outputs": [
    {
     "data": {
      "text/plain": [
       "'this is secodn class'"
      ]
     },
     "execution_count": 9,
     "metadata": {},
     "output_type": "execute_result"
    }
   ],
   "source": [
    "child_obj.test_second()"
   ]
  },
  {
   "cell_type": "code",
   "execution_count": null,
   "id": "b25c8eff",
   "metadata": {},
   "outputs": [],
   "source": []
  },
  {
   "cell_type": "code",
   "execution_count": 10,
   "id": "45ca0a92",
   "metadata": {},
   "outputs": [],
   "source": [
    "#multilevel inheritance \n",
    "\n",
    "#class1 -> class2 -> class3"
   ]
  },
  {
   "cell_type": "code",
   "execution_count": null,
   "id": "d7921bd1",
   "metadata": {},
   "outputs": [],
   "source": []
  },
  {
   "cell_type": "code",
   "execution_count": 9,
   "id": "c2f0a827",
   "metadata": {},
   "outputs": [],
   "source": [
    "class class1:\n",
    "    \n",
    "    def test_class1(self):\n",
    "        return \"This is an first class \""
   ]
  },
  {
   "cell_type": "code",
   "execution_count": 2,
   "id": "daca62f1",
   "metadata": {},
   "outputs": [],
   "source": [
    "class class2(class1):\n",
    "    \n",
    "    def test2(self):\n",
    "        return \"This is an second class \""
   ]
  },
  {
   "cell_type": "code",
   "execution_count": 18,
   "id": "1c4a8196",
   "metadata": {},
   "outputs": [],
   "source": [
    "class class3(class2):\n",
    "    def test3(self):\n",
    "        return \"This is an third class \""
   ]
  },
  {
   "cell_type": "code",
   "execution_count": 19,
   "id": "1d0920f2",
   "metadata": {},
   "outputs": [],
   "source": [
    "obj_class3 = class3()"
   ]
  },
  {
   "cell_type": "code",
   "execution_count": 20,
   "id": "5a270120",
   "metadata": {},
   "outputs": [
    {
     "ename": "AttributeError",
     "evalue": "'class3' object has no attribute 'test_class1'",
     "output_type": "error",
     "traceback": [
      "\u001b[1;31m---------------------------------------------------------------------------\u001b[0m",
      "\u001b[1;31mAttributeError\u001b[0m                            Traceback (most recent call last)",
      "Cell \u001b[1;32mIn [20], line 1\u001b[0m\n\u001b[1;32m----> 1\u001b[0m \u001b[43mobj_class3\u001b[49m\u001b[38;5;241;43m.\u001b[39;49m\u001b[43mtest_class1\u001b[49m()\n",
      "\u001b[1;31mAttributeError\u001b[0m: 'class3' object has no attribute 'test_class1'"
     ]
    }
   ],
   "source": [
    "obj_class3.test_class1()"
   ]
  },
  {
   "cell_type": "code",
   "execution_count": 21,
   "id": "548b858a",
   "metadata": {},
   "outputs": [
    {
     "data": {
      "text/plain": [
       "'This is an second class '"
      ]
     },
     "execution_count": 21,
     "metadata": {},
     "output_type": "execute_result"
    }
   ],
   "source": [
    "obj_class3.test2()"
   ]
  },
  {
   "cell_type": "code",
   "execution_count": 22,
   "id": "83f0bb90",
   "metadata": {},
   "outputs": [
    {
     "data": {
      "text/plain": [
       "'This is an third class '"
      ]
     },
     "execution_count": 22,
     "metadata": {},
     "output_type": "execute_result"
    }
   ],
   "source": [
    "obj_class3.test3()"
   ]
  },
  {
   "cell_type": "code",
   "execution_count": null,
   "id": "214a8a0d",
   "metadata": {},
   "outputs": [],
   "source": []
  },
  {
   "cell_type": "code",
   "execution_count": 23,
   "id": "bf7f192f",
   "metadata": {},
   "outputs": [],
   "source": [
    "#multipal inheritance"
   ]
  },
  {
   "cell_type": "code",
   "execution_count": 24,
   "id": "99c85f36",
   "metadata": {},
   "outputs": [],
   "source": [
    "class A:\n",
    "    def a(self):\n",
    "        return \"This is first class\""
   ]
  },
  {
   "cell_type": "code",
   "execution_count": 25,
   "id": "d726f030",
   "metadata": {},
   "outputs": [],
   "source": [
    "class B:\n",
    "    def b(self):\n",
    "        return \"This is second class\""
   ]
  },
  {
   "cell_type": "code",
   "execution_count": 31,
   "id": "89b38030",
   "metadata": {},
   "outputs": [],
   "source": [
    "class C(A, B):\n",
    "    def cc(self):\n",
    "        return \"This is third class\""
   ]
  },
  {
   "cell_type": "code",
   "execution_count": 32,
   "id": "c5abf3d3",
   "metadata": {},
   "outputs": [],
   "source": [
    "c = C()"
   ]
  },
  {
   "cell_type": "code",
   "execution_count": 33,
   "id": "71af45c4",
   "metadata": {},
   "outputs": [
    {
     "data": {
      "text/plain": [
       "'This is first class'"
      ]
     },
     "execution_count": 33,
     "metadata": {},
     "output_type": "execute_result"
    }
   ],
   "source": [
    "c.a()"
   ]
  },
  {
   "cell_type": "code",
   "execution_count": 34,
   "id": "5f845cb2",
   "metadata": {},
   "outputs": [
    {
     "data": {
      "text/plain": [
       "'This is second class'"
      ]
     },
     "execution_count": 34,
     "metadata": {},
     "output_type": "execute_result"
    }
   ],
   "source": [
    "c.b()"
   ]
  },
  {
   "cell_type": "code",
   "execution_count": 35,
   "id": "82717381",
   "metadata": {},
   "outputs": [
    {
     "data": {
      "text/plain": [
       "'This is third class'"
      ]
     },
     "execution_count": 35,
     "metadata": {},
     "output_type": "execute_result"
    }
   ],
   "source": [
    "c.cc()"
   ]
  },
  {
   "cell_type": "code",
   "execution_count": null,
   "id": "90e1d843",
   "metadata": {},
   "outputs": [],
   "source": []
  }
 ],
 "metadata": {
  "kernelspec": {
   "display_name": "Python 3 (ipykernel)",
   "language": "python",
   "name": "python3"
  },
  "language_info": {
   "codemirror_mode": {
    "name": "ipython",
    "version": 3
   },
   "file_extension": ".py",
   "mimetype": "text/x-python",
   "name": "python",
   "nbconvert_exporter": "python",
   "pygments_lexer": "ipython3",
   "version": "3.11.0"
  }
 },
 "nbformat": 4,
 "nbformat_minor": 5
}
