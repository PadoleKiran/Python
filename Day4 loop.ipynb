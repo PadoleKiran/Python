{
 "cells": [
  {
   "cell_type": "markdown",
   "id": "e14c548a",
   "metadata": {},
   "source": [
    "# loop"
   ]
  },
  {
   "cell_type": "code",
   "execution_count": 1,
   "id": "c1596e7f",
   "metadata": {},
   "outputs": [],
   "source": [
    "l = [1,2,3,4]"
   ]
  },
  {
   "cell_type": "code",
   "execution_count": 3,
   "id": "186a4cc8",
   "metadata": {},
   "outputs": [
    {
     "name": "stdout",
     "output_type": "stream",
     "text": [
      "1 <class 'int'>\n",
      "2 <class 'int'>\n",
      "3 <class 'int'>\n",
      "4 <class 'int'>\n"
     ]
    }
   ],
   "source": [
    "for i in l:\n",
    "    print(i,type(i))"
   ]
  },
  {
   "cell_type": "code",
   "execution_count": 4,
   "id": "dea6a05b",
   "metadata": {},
   "outputs": [],
   "source": [
    "l1 = [\"kiran\",\"sandip\",\"thosar\"]"
   ]
  },
  {
   "cell_type": "code",
   "execution_count": 5,
   "id": "67de769f",
   "metadata": {},
   "outputs": [
    {
     "name": "stdout",
     "output_type": "stream",
     "text": [
      "kiran\n",
      "sandip\n",
      "thosar\n"
     ]
    }
   ],
   "source": [
    "for i in l1:\n",
    "    print(i)"
   ]
  },
  {
   "cell_type": "code",
   "execution_count": 7,
   "id": "4d65207d",
   "metadata": {},
   "outputs": [
    {
     "name": "stdout",
     "output_type": "stream",
     "text": [
      "1\n",
      "2\n",
      "3\n"
     ]
    }
   ],
   "source": [
    "for i in l:\n",
    "    print(i)\n",
    "    if i == 3:\n",
    "        break\n",
    "else:\n",
    "    print(\"Do somthing !!\")"
   ]
  },
  {
   "cell_type": "code",
   "execution_count": 8,
   "id": "1886fed8",
   "metadata": {},
   "outputs": [
    {
     "name": "stdout",
     "output_type": "stream",
     "text": [
      "1\n",
      "2\n",
      "3\n",
      "4\n",
      "Do somthing !!\n"
     ]
    }
   ],
   "source": [
    "for i in l:\n",
    "    print(i)\n",
    "    \n",
    "else:\n",
    "    print(\"Do somthing !!\")"
   ]
  },
  {
   "cell_type": "code",
   "execution_count": 9,
   "id": "6772c5c0",
   "metadata": {},
   "outputs": [],
   "source": [
    "#when for loop complet its all execution success fully then and then only else block will executed "
   ]
  },
  {
   "cell_type": "code",
   "execution_count": 10,
   "id": "8b232d51",
   "metadata": {},
   "outputs": [],
   "source": [
    "#break - break can terminat the loop \n",
    "#continue - continue can skip the current itration"
   ]
  },
  {
   "cell_type": "code",
   "execution_count": 15,
   "id": "4b554355",
   "metadata": {},
   "outputs": [
    {
     "name": "stdout",
     "output_type": "stream",
     "text": [
      "1\n",
      "2\n"
     ]
    }
   ],
   "source": [
    "for i in l:\n",
    "    \n",
    "    if i == 3:\n",
    "        break\n",
    "    print(i)"
   ]
  },
  {
   "cell_type": "code",
   "execution_count": 28,
   "id": "f5a86197",
   "metadata": {},
   "outputs": [
    {
     "name": "stdout",
     "output_type": "stream",
     "text": [
      "1\n",
      "2\n",
      "4\n"
     ]
    }
   ],
   "source": [
    "l1 = [\"kiran\",\"sandip\",\"thosar\"]\n",
    "for i in l:\n",
    "    \n",
    "    if i == 3:\n",
    "        continue\n",
    "    print(i)"
   ]
  },
  {
   "cell_type": "code",
   "execution_count": 16,
   "id": "23bf2300",
   "metadata": {},
   "outputs": [
    {
     "name": "stdout",
     "output_type": "stream",
     "text": [
      "1\n",
      "2\n",
      "4\n",
      "Elese block is running!\n"
     ]
    }
   ],
   "source": [
    "for i in l:\n",
    "    \n",
    "    if i == 3:\n",
    "        continue\n",
    "    print(i)\n",
    "else:\n",
    "    print(\"Elese block is running!\")"
   ]
  },
  {
   "cell_type": "code",
   "execution_count": 17,
   "id": "5c58fbb0",
   "metadata": {},
   "outputs": [],
   "source": [
    "#range() renge function is generator function which can gener data"
   ]
  },
  {
   "cell_type": "code",
   "execution_count": 18,
   "id": "04810294",
   "metadata": {},
   "outputs": [
    {
     "data": {
      "text/plain": [
       "range(0, 5)"
      ]
     },
     "execution_count": 18,
     "metadata": {},
     "output_type": "execute_result"
    }
   ],
   "source": [
    "range(5)"
   ]
  },
  {
   "cell_type": "code",
   "execution_count": 20,
   "id": "c523d260",
   "metadata": {},
   "outputs": [
    {
     "data": {
      "text/plain": [
       "[0, 1, 2, 3, 4]"
      ]
     },
     "execution_count": 20,
     "metadata": {},
     "output_type": "execute_result"
    }
   ],
   "source": [
    "list(range(5))"
   ]
  },
  {
   "cell_type": "code",
   "execution_count": 22,
   "id": "3245de5a",
   "metadata": {},
   "outputs": [
    {
     "data": {
      "text/plain": [
       "[0, 2, 4, 6, 8, 10, 12, 14, 16, 18]"
      ]
     },
     "execution_count": 22,
     "metadata": {},
     "output_type": "execute_result"
    }
   ],
   "source": [
    "list(range(0,20,2)) #[starting point , ending point - 1 , steps ]"
   ]
  },
  {
   "cell_type": "code",
   "execution_count": 36,
   "id": "58775b9d",
   "metadata": {},
   "outputs": [
    {
     "name": "stdout",
     "output_type": "stream",
     "text": [
      "thosar\n",
      "sandip\n",
      "kiran\n"
     ]
    }
   ],
   "source": [
    "l1 = [\"kiran\",\"sandip\",\"thosar\"]\n",
    "for i in range(len(l1)-1,0-1,-1):\n",
    "    print(l1[i])"
   ]
  },
  {
   "cell_type": "code",
   "execution_count": 38,
   "id": "e339c712",
   "metadata": {},
   "outputs": [
    {
     "name": "stdout",
     "output_type": "stream",
     "text": [
      "thosar\n",
      "sandip\n",
      "kiran\n"
     ]
    }
   ],
   "source": [
    "l1 = [\"kiran\",\"sandip\",\"thosar\"]\n",
    "for i in range(len(l1),0,-1):\n",
    "    print(l1[i-1])"
   ]
  },
  {
   "cell_type": "code",
   "execution_count": 52,
   "id": "f0109a18",
   "metadata": {},
   "outputs": [
    {
     "name": "stdout",
     "output_type": "stream",
     "text": [
      "1\n",
      "3\n",
      "5\n",
      "7\n",
      "9\n"
     ]
    }
   ],
   "source": [
    "l2 = [1,2,3,4,5,6,7,8,9]\n",
    "\n",
    "if len(l2)%2 == 0:\n",
    "    x = len(l2)\n",
    "else:\n",
    "    x = len(l2) + 1\n",
    "\n",
    "for i in range(0,x,2):\n",
    "    print(l2[i])"
   ]
  },
  {
   "cell_type": "code",
   "execution_count": 60,
   "id": "24f36c57",
   "metadata": {},
   "outputs": [
    {
     "name": "stdout",
     "output_type": "stream",
     "text": [
      "1\n",
      "3\n",
      "6\n",
      "10\n",
      "15\n",
      "total is  15\n"
     ]
    }
   ],
   "source": [
    "l = [1,2,3,4,5]\n",
    "k = 0\n",
    "\n",
    "for i in l:\n",
    "    k = k + i\n",
    "    print(k)\n",
    "    \n",
    "print(\"total is \" , k)"
   ]
  },
  {
   "cell_type": "code",
   "execution_count": 61,
   "id": "d0ec2f8d",
   "metadata": {},
   "outputs": [
    {
     "data": {
      "text/plain": [
       "15"
      ]
     },
     "execution_count": 61,
     "metadata": {},
     "output_type": "execute_result"
    }
   ],
   "source": [
    "sum(l)"
   ]
  },
  {
   "cell_type": "code",
   "execution_count": 64,
   "id": "e3430d89",
   "metadata": {},
   "outputs": [
    {
     "name": "stdout",
     "output_type": "stream",
     "text": [
      "a\n",
      "b\n",
      "c\n",
      "d\n"
     ]
    }
   ],
   "source": [
    "t = ('a','b','c','d') #we can use for on tuples\n",
    "\n",
    "for i in t:\n",
    "    print(i)"
   ]
  },
  {
   "cell_type": "code",
   "execution_count": 68,
   "id": "6ba7733c",
   "metadata": {},
   "outputs": [
    {
     "name": "stdout",
     "output_type": "stream",
     "text": [
      "kiran\n",
      "b\n",
      "(1, 2)\n",
      "a\n"
     ]
    }
   ],
   "source": [
    "s = {'a','b',(1,2),\"kiran\"}\n",
    "\n",
    "for i in s:\n",
    "    print(i)"
   ]
  },
  {
   "cell_type": "code",
   "execution_count": 69,
   "id": "2606348e",
   "metadata": {},
   "outputs": [
    {
     "name": "stdout",
     "output_type": "stream",
     "text": [
      "p\n",
      "w\n",
      "s\n",
      "k\n",
      "i\n",
      "l\n",
      "l\n",
      "s\n"
     ]
    }
   ],
   "source": [
    "s = \"pwskills\"\n",
    "for i in s:\n",
    "    print(i)"
   ]
  },
  {
   "cell_type": "code",
   "execution_count": 71,
   "id": "933ea3e7",
   "metadata": {},
   "outputs": [],
   "source": [
    "d = {1:\"a\",2:\"b\",3:\"c\",4:['a','b','c']}"
   ]
  },
  {
   "cell_type": "code",
   "execution_count": 72,
   "id": "21a69a12",
   "metadata": {},
   "outputs": [
    {
     "data": {
      "text/plain": [
       "dict_keys([1, 2, 3, 4])"
      ]
     },
     "execution_count": 72,
     "metadata": {},
     "output_type": "execute_result"
    }
   ],
   "source": [
    "d.keys()"
   ]
  },
  {
   "cell_type": "code",
   "execution_count": 73,
   "id": "a741bb90",
   "metadata": {},
   "outputs": [
    {
     "name": "stdout",
     "output_type": "stream",
     "text": [
      "a\n",
      "b\n",
      "c\n",
      "['a', 'b', 'c']\n"
     ]
    }
   ],
   "source": [
    "for i in d.keys():\n",
    "    print(d[i])"
   ]
  },
  {
   "cell_type": "code",
   "execution_count": 74,
   "id": "68de3d94",
   "metadata": {},
   "outputs": [
    {
     "data": {
      "text/plain": [
       "True"
      ]
     },
     "execution_count": 74,
     "metadata": {},
     "output_type": "execute_result"
    }
   ],
   "source": [
    "True or False and True"
   ]
  },
  {
   "cell_type": "code",
   "execution_count": 75,
   "id": "8793fc8f",
   "metadata": {},
   "outputs": [
    {
     "data": {
      "text/plain": [
       "False"
      ]
     },
     "execution_count": 75,
     "metadata": {},
     "output_type": "execute_result"
    }
   ],
   "source": [
    "not(True) or False and True"
   ]
  },
  {
   "cell_type": "code",
   "execution_count": 76,
   "id": "3a38d244",
   "metadata": {},
   "outputs": [
    {
     "data": {
      "text/plain": [
       "False"
      ]
     },
     "execution_count": 76,
     "metadata": {},
     "output_type": "execute_result"
    }
   ],
   "source": [
    "False or False and not(True)"
   ]
  },
  {
   "cell_type": "code",
   "execution_count": null,
   "id": "11d40a0e",
   "metadata": {},
   "outputs": [],
   "source": []
  },
  {
   "cell_type": "code",
   "execution_count": 92,
   "id": "b138e320",
   "metadata": {},
   "outputs": [
    {
     "name": "stdout",
     "output_type": "stream",
     "text": [
      "True\n",
      "False\n"
     ]
    }
   ],
   "source": [
    "s = \"hi1kiran\"\n",
    "\n",
    "print(s.isalnum()) # is jar spaec aala made tar False deta\n",
    "\n",
    "print(s.isalpha()) # if jar sagadae alpha bet aale tar True deata "
   ]
  },
  {
   "cell_type": "code",
   "execution_count": 83,
   "id": "1069a243",
   "metadata": {},
   "outputs": [
    {
     "ename": "TypeError",
     "evalue": "'str' object does not support item assignment",
     "output_type": "error",
     "traceback": [
      "\u001b[1;31m---------------------------------------------------------------------------\u001b[0m",
      "\u001b[1;31mTypeError\u001b[0m                                 Traceback (most recent call last)",
      "Cell \u001b[1;32mIn [83], line 1\u001b[0m\n\u001b[1;32m----> 1\u001b[0m \u001b[38;5;124;43m'\u001b[39;49m\u001b[38;5;124;43mkiran\u001b[39;49m\u001b[38;5;124;43m'\u001b[39;49m\u001b[43m[\u001b[49m\u001b[38;5;241;43m0\u001b[39;49m\u001b[43m]\u001b[49m\u001b[38;5;241m=\u001b[39m\u001b[38;5;124m'\u001b[39m\u001b[38;5;124mK\u001b[39m\u001b[38;5;124m'\u001b[39m\n",
      "\u001b[1;31mTypeError\u001b[0m: 'str' object does not support item assignment"
     ]
    }
   ],
   "source": [
    "'kiran'[0]='K'"
   ]
  },
  {
   "cell_type": "code",
   "execution_count": 84,
   "id": "7f2a77e2",
   "metadata": {},
   "outputs": [
    {
     "ename": "TypeError",
     "evalue": "'builtin_function_or_method' object is not iterable",
     "output_type": "error",
     "traceback": [
      "\u001b[1;31m---------------------------------------------------------------------------\u001b[0m",
      "\u001b[1;31mTypeError\u001b[0m                                 Traceback (most recent call last)",
      "Cell \u001b[1;32mIn [84], line 3\u001b[0m\n\u001b[0;32m      1\u001b[0m s \u001b[38;5;241m=\u001b[39m \u001b[38;5;124m\"\u001b[39m\u001b[38;5;124mi want to become a data\u001b[39m\u001b[38;5;124m\"\u001b[39m\n\u001b[1;32m----> 3\u001b[0m \u001b[38;5;28;01mfor\u001b[39;00m i \u001b[38;5;129;01min\u001b[39;00m s\u001b[38;5;241m.\u001b[39msplit:\n\u001b[0;32m      4\u001b[0m     i\u001b[38;5;241m.\u001b[39mcapilize()\n\u001b[0;32m      5\u001b[0m     \u001b[38;5;28mprint\u001b[39m(i\u001b[38;5;241m.\u001b[39mtitle())\n",
      "\u001b[1;31mTypeError\u001b[0m: 'builtin_function_or_method' object is not iterable"
     ]
    }
   ],
   "source": [
    "s = \"i want to become a data\"\n",
    "\n",
    "for i in s.split:\n",
    "    i.capilize()\n",
    "    print(i.title())"
   ]
  },
  {
   "cell_type": "code",
   "execution_count": 87,
   "id": "3a96e2bf",
   "metadata": {},
   "outputs": [
    {
     "data": {
      "text/plain": [
       "True"
      ]
     },
     "execution_count": 87,
     "metadata": {},
     "output_type": "execute_result"
    }
   ],
   "source": [
    "\"pwskills\"[::-1].upper().replace(\"SLLIKSWP\",\"pwskills\").islower()"
   ]
  },
  {
   "cell_type": "code",
   "execution_count": 95,
   "id": "bdf0984d",
   "metadata": {},
   "outputs": [
    {
     "data": {
      "text/plain": [
       "'p w s k i l l s'"
      ]
     },
     "execution_count": 95,
     "metadata": {},
     "output_type": "execute_result"
    }
   ],
   "source": [
    "s = 'p w s k i l l s'\n",
    "\n",
    "\" \".join(s.replace(\" \",\"\"))"
   ]
  },
  {
   "cell_type": "code",
   "execution_count": null,
   "id": "ba9670ca",
   "metadata": {},
   "outputs": [],
   "source": [
    "#\n",
    "y = int(input(\"Enter the value of y :\"))\n",
    "\n",
    "lhs = 3 - y\n",
    "rhs = 4\n",
    "\n"
   ]
  }
 ],
 "metadata": {
  "kernelspec": {
   "display_name": "Python 3 (ipykernel)",
   "language": "python",
   "name": "python3"
  },
  "language_info": {
   "codemirror_mode": {
    "name": "ipython",
    "version": 3
   },
   "file_extension": ".py",
   "mimetype": "text/x-python",
   "name": "python",
   "nbconvert_exporter": "python",
   "pygments_lexer": "ipython3",
   "version": "3.11.0"
  }
 },
 "nbformat": 4,
 "nbformat_minor": 5
}
