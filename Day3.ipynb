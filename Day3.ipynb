{
 "cells": [
  {
   "cell_type": "markdown",
   "id": "cd432d38",
   "metadata": {},
   "source": [
    "# dictionary"
   ]
  },
  {
   "cell_type": "code",
   "execution_count": 1,
   "id": "9f8300e2",
   "metadata": {},
   "outputs": [],
   "source": [
    "d = {}"
   ]
  },
  {
   "cell_type": "code",
   "execution_count": 2,
   "id": "1b7fc095",
   "metadata": {},
   "outputs": [
    {
     "data": {
      "text/plain": [
       "dict"
      ]
     },
     "execution_count": 2,
     "metadata": {},
     "output_type": "execute_result"
    }
   ],
   "source": [
    "type(d)"
   ]
  },
  {
   "cell_type": "code",
   "execution_count": 3,
   "id": "d8ee6694",
   "metadata": {},
   "outputs": [],
   "source": [
    "#dictionary is key : value pair"
   ]
  },
  {
   "cell_type": "code",
   "execution_count": 5,
   "id": "1dfdc47e",
   "metadata": {},
   "outputs": [],
   "source": [
    "d = {\"key1\" : \"value\"} #key should be unique \n",
    "                       #if key is repeted then value will be updated it take newest value  "
   ]
  },
  {
   "cell_type": "code",
   "execution_count": 6,
   "id": "3a5003df",
   "metadata": {},
   "outputs": [
    {
     "data": {
      "text/plain": [
       "{'key1': 'value'}"
      ]
     },
     "execution_count": 6,
     "metadata": {},
     "output_type": "execute_result"
    }
   ],
   "source": [
    "d"
   ]
  },
  {
   "cell_type": "code",
   "execution_count": 7,
   "id": "bd57649d",
   "metadata": {},
   "outputs": [],
   "source": [
    "d = {'name' : 'kiran' ,'sname' : 'padole', 'per':93.7}"
   ]
  },
  {
   "cell_type": "code",
   "execution_count": 8,
   "id": "e9a6fa8b",
   "metadata": {},
   "outputs": [
    {
     "data": {
      "text/plain": [
       "{'name': 'kiran', 'sname': 'padole', 'per': 93.7}"
      ]
     },
     "execution_count": 8,
     "metadata": {},
     "output_type": "execute_result"
    }
   ],
   "source": [
    "d"
   ]
  },
  {
   "cell_type": "code",
   "execution_count": 9,
   "id": "e4120e86",
   "metadata": {},
   "outputs": [
    {
     "ename": "KeyError",
     "evalue": "1",
     "output_type": "error",
     "traceback": [
      "\u001b[1;31m---------------------------------------------------------------------------\u001b[0m",
      "\u001b[1;31mKeyError\u001b[0m                                  Traceback (most recent call last)",
      "Cell \u001b[1;32mIn [9], line 1\u001b[0m\n\u001b[1;32m----> 1\u001b[0m \u001b[43md\u001b[49m\u001b[43m[\u001b[49m\u001b[38;5;241;43m1\u001b[39;49m\u001b[43m]\u001b[49m\n",
      "\u001b[1;31mKeyError\u001b[0m: 1"
     ]
    }
   ],
   "source": [
    "d[1]"
   ]
  },
  {
   "cell_type": "code",
   "execution_count": 11,
   "id": "9098dc43",
   "metadata": {},
   "outputs": [
    {
     "data": {
      "text/plain": [
       "'kiran'"
      ]
     },
     "execution_count": 11,
     "metadata": {},
     "output_type": "execute_result"
    }
   ],
   "source": [
    "d['name']"
   ]
  },
  {
   "cell_type": "code",
   "execution_count": 12,
   "id": "2b4df739",
   "metadata": {},
   "outputs": [],
   "source": [
    "d = {1:'k',2:[4,5,6,4]}"
   ]
  },
  {
   "cell_type": "code",
   "execution_count": 13,
   "id": "f58cdf38",
   "metadata": {},
   "outputs": [
    {
     "data": {
      "text/plain": [
       "[4, 5, 6, 4]"
      ]
     },
     "execution_count": 13,
     "metadata": {},
     "output_type": "execute_result"
    }
   ],
   "source": [
    "d[2]"
   ]
  },
  {
   "cell_type": "code",
   "execution_count": 14,
   "id": "7616b115",
   "metadata": {},
   "outputs": [
    {
     "data": {
      "text/plain": [
       "6"
      ]
     },
     "execution_count": 14,
     "metadata": {},
     "output_type": "execute_result"
    }
   ],
   "source": [
    "d[2][2]"
   ]
  },
  {
   "cell_type": "code",
   "execution_count": 17,
   "id": "8397a735",
   "metadata": {},
   "outputs": [],
   "source": [
    "d[3] = ['x','y','z'] #add new data"
   ]
  },
  {
   "cell_type": "code",
   "execution_count": 18,
   "id": "70fbbe81",
   "metadata": {},
   "outputs": [
    {
     "data": {
      "text/plain": [
       "{1: 'k', 2: [4, 5, 6, 4], 3: ['x', 'y', 'z']}"
      ]
     },
     "execution_count": 18,
     "metadata": {},
     "output_type": "execute_result"
    }
   ],
   "source": [
    "d"
   ]
  },
  {
   "cell_type": "code",
   "execution_count": 19,
   "id": "c0ab66cb",
   "metadata": {},
   "outputs": [],
   "source": [
    "del d[3]"
   ]
  },
  {
   "cell_type": "code",
   "execution_count": 20,
   "id": "7da791b9",
   "metadata": {},
   "outputs": [
    {
     "data": {
      "text/plain": [
       "{1: 'k', 2: [4, 5, 6, 4]}"
      ]
     },
     "execution_count": 20,
     "metadata": {},
     "output_type": "execute_result"
    }
   ],
   "source": [
    "d"
   ]
  },
  {
   "cell_type": "code",
   "execution_count": 22,
   "id": "68c44cd0",
   "metadata": {},
   "outputs": [
    {
     "data": {
      "text/plain": [
       "dict_keys([1, 2])"
      ]
     },
     "execution_count": 22,
     "metadata": {},
     "output_type": "execute_result"
    }
   ],
   "source": [
    "d.keys() #find all keys form dictionary "
   ]
  },
  {
   "cell_type": "code",
   "execution_count": 23,
   "id": "c7d7c4db",
   "metadata": {},
   "outputs": [
    {
     "data": {
      "text/plain": [
       "dict_values(['k', [4, 5, 6, 4]])"
      ]
     },
     "execution_count": 23,
     "metadata": {},
     "output_type": "execute_result"
    }
   ],
   "source": [
    "d.values() #find all values from dictionary"
   ]
  },
  {
   "cell_type": "code",
   "execution_count": 24,
   "id": "011f8796",
   "metadata": {},
   "outputs": [
    {
     "data": {
      "text/plain": [
       "dict_items([(1, 'k'), (2, [4, 5, 6, 4])])"
      ]
     },
     "execution_count": 24,
     "metadata": {},
     "output_type": "execute_result"
    }
   ],
   "source": [
    "d.items()"
   ]
  },
  {
   "cell_type": "code",
   "execution_count": 27,
   "id": "01809ba1",
   "metadata": {},
   "outputs": [
    {
     "data": {
      "text/plain": [
       "'k'"
      ]
     },
     "execution_count": 27,
     "metadata": {},
     "output_type": "execute_result"
    }
   ],
   "source": [
    "d.pop(1)"
   ]
  },
  {
   "cell_type": "code",
   "execution_count": 28,
   "id": "70113c83",
   "metadata": {},
   "outputs": [
    {
     "ename": "TypeError",
     "evalue": "pop expected at least 1 argument, got 0",
     "output_type": "error",
     "traceback": [
      "\u001b[1;31m---------------------------------------------------------------------------\u001b[0m",
      "\u001b[1;31mTypeError\u001b[0m                                 Traceback (most recent call last)",
      "Cell \u001b[1;32mIn [28], line 1\u001b[0m\n\u001b[1;32m----> 1\u001b[0m \u001b[43md\u001b[49m\u001b[38;5;241;43m.\u001b[39;49m\u001b[43mpop\u001b[49m\u001b[43m(\u001b[49m\u001b[43m)\u001b[49m\n",
      "\u001b[1;31mTypeError\u001b[0m: pop expected at least 1 argument, got 0"
     ]
    }
   ],
   "source": [
    "d.pop()"
   ]
  },
  {
   "cell_type": "code",
   "execution_count": 29,
   "id": "8eeae36e",
   "metadata": {},
   "outputs": [],
   "source": [
    "d = {'name' : 'kiran' ,'sname' : 'padole', 'per':93.7}"
   ]
  },
  {
   "cell_type": "code",
   "execution_count": 30,
   "id": "ea5da818",
   "metadata": {},
   "outputs": [
    {
     "ename": "TypeError",
     "evalue": "pop expected at least 1 argument, got 0",
     "output_type": "error",
     "traceback": [
      "\u001b[1;31m---------------------------------------------------------------------------\u001b[0m",
      "\u001b[1;31mTypeError\u001b[0m                                 Traceback (most recent call last)",
      "Cell \u001b[1;32mIn [30], line 1\u001b[0m\n\u001b[1;32m----> 1\u001b[0m \u001b[43md\u001b[49m\u001b[38;5;241;43m.\u001b[39;49m\u001b[43mpop\u001b[49m\u001b[43m(\u001b[49m\u001b[43m)\u001b[49m\n",
      "\u001b[1;31mTypeError\u001b[0m: pop expected at least 1 argument, got 0"
     ]
    }
   ],
   "source": [
    "d.pop()"
   ]
  },
  {
   "cell_type": "code",
   "execution_count": 31,
   "id": "9d2e5228",
   "metadata": {},
   "outputs": [],
   "source": [
    "# = assignment operator \n",
    "# == comparision operator"
   ]
  },
  {
   "cell_type": "markdown",
   "id": "3aa0a0e1",
   "metadata": {},
   "source": [
    "# if else"
   ]
  },
  {
   "cell_type": "code",
   "execution_count": 33,
   "id": "7c200ba2",
   "metadata": {},
   "outputs": [
    {
     "name": "stdout",
     "output_type": "stream",
     "text": [
      "you are smart!!\n"
     ]
    }
   ],
   "source": [
    "m = 60\n",
    "\n",
    "if m >= 50:\n",
    "    print(\"you are smart!!\")"
   ]
  },
  {
   "cell_type": "code",
   "execution_count": 34,
   "id": "2f9022e7",
   "metadata": {},
   "outputs": [
    {
     "name": "stdout",
     "output_type": "stream",
     "text": [
      "Enter your marks : 99\n",
      "You are in batch A \n"
     ]
    }
   ],
   "source": [
    "marks = int(input(\"Enter your marks : \"))\n",
    "\n",
    "if marks >=90:\n",
    "    print(\"You are in batch A \")\n",
    "elif marks >=70 and marks < 89:\n",
    "    print(\"you are in batch B\")\n",
    "else:\n",
    "    print(\" you are in batch C\")"
   ]
  },
  {
   "cell_type": "markdown",
   "id": "2be13083",
   "metadata": {},
   "source": [
    "# loop"
   ]
  },
  {
   "cell_type": "code",
   "execution_count": 5,
   "id": "d55823c6",
   "metadata": {},
   "outputs": [
    {
     "name": "stdout",
     "output_type": "stream",
     "text": [
      "[1, 2, 3, 4]\n",
      "new : [2, 3, 4, 5]\n"
     ]
    }
   ],
   "source": [
    "\n",
    "\n",
    "l1 = []\n",
    "ans = 0\n",
    "\n",
    "for i in [1,2,3,4]:\n",
    "    ans = i + 1\n",
    "    l1.append(ans)\n",
    "    \n",
    "print(l)\n",
    "print(\"new :\" ,l1)"
   ]
  },
  {
   "cell_type": "code",
   "execution_count": 12,
   "id": "6fef0bbf",
   "metadata": {},
   "outputs": [
    {
     "name": "stdout",
     "output_type": "stream",
     "text": [
      "[2, 3, 4]\n"
     ]
    }
   ],
   "source": [
    "l = [1,2,3]\n",
    "ans = 0\n",
    "l1 = []\n",
    "\n",
    "for i in l:\n",
    "    \n",
    "    ans = i + 1\n",
    "    l1.append(ans)\n",
    "    \n",
    "print(l1)"
   ]
  },
  {
   "cell_type": "code",
   "execution_count": 13,
   "id": "e4825093",
   "metadata": {},
   "outputs": [
    {
     "name": "stdout",
     "output_type": "stream",
     "text": [
      "[2, 3, 4]\n"
     ]
    }
   ],
   "source": [
    "l = [1,2,3]\n",
    "\n",
    "l1 = []\n",
    "\n",
    "for i in l:\n",
    "    l1.append(i + 1)\n",
    "    \n",
    "print(l1)"
   ]
  },
  {
   "cell_type": "code",
   "execution_count": 18,
   "id": "55834dc6",
   "metadata": {},
   "outputs": [
    {
     "name": "stdout",
     "output_type": "stream",
     "text": [
      "[2, 3, 4, 'KIRAN', 'SANDIP', 'THOSAR']\n"
     ]
    }
   ],
   "source": [
    "l = ['kiran','sandip','thosar']\n",
    "\n",
    "for i in l:\n",
    "    l1.append(i.upper())\n",
    "    \n",
    "print(l1)"
   ]
  },
  {
   "cell_type": "code",
   "execution_count": 21,
   "id": "dc962863",
   "metadata": {},
   "outputs": [
    {
     "data": {
      "text/plain": [
       "['kiran', 'is', 'my', 'name']"
      ]
     },
     "execution_count": 21,
     "metadata": {},
     "output_type": "execute_result"
    }
   ],
   "source": [
    "s = \"kiran is my name\"\n",
    "s.split()"
   ]
  },
  {
   "cell_type": "code",
   "execution_count": 22,
   "id": "8d0ca1d5",
   "metadata": {},
   "outputs": [
    {
     "data": {
      "text/plain": [
       "[2, 3, 4, 'KIRAN', 'SANDIP', 'THOSAR']"
      ]
     },
     "execution_count": 22,
     "metadata": {},
     "output_type": "execute_result"
    }
   ],
   "source": [
    "l1"
   ]
  },
  {
   "cell_type": "code",
   "execution_count": 29,
   "id": "8f129b05",
   "metadata": {},
   "outputs": [
    {
     "name": "stdout",
     "output_type": "stream",
     "text": [
      "[2, 3, 4]\n",
      "['KIRAN', 'SANDIP', 'THOSAR']\n"
     ]
    }
   ],
   "source": [
    "l2_num = []\n",
    "l3_str = []\n",
    "\n",
    "for i in l1:\n",
    "    if type(i) == int or type(i) == float:\n",
    "        l2_num.append(i)\n",
    "    else:\n",
    "        l3_str.append(i)\n",
    "        \n",
    "print(l2_num)\n",
    "print(l3_str)"
   ]
  },
  {
   "cell_type": "code",
   "execution_count": 28,
   "id": "d3961ebe",
   "metadata": {},
   "outputs": [
    {
     "name": "stdout",
     "output_type": "stream",
     "text": [
      "[2]\n",
      "[2, 3]\n",
      "[2, 3, 4]\n",
      "[2, 3, 4]\n"
     ]
    }
   ],
   "source": [
    "for i in l1:\n",
    "    if type(i) == int :\n",
    "        l2_num.append(i)\n",
    "        print(l2_num)\n",
    "print(l2_num)"
   ]
  },
  {
   "cell_type": "code",
   "execution_count": 27,
   "id": "af1f0c3f",
   "metadata": {},
   "outputs": [
    {
     "data": {
      "text/plain": [
       "[2, 3, 4, 'KIRAN', 'SANDIP', 'THOSAR']"
      ]
     },
     "execution_count": 27,
     "metadata": {},
     "output_type": "execute_result"
    }
   ],
   "source": [
    "l1"
   ]
  },
  {
   "cell_type": "code",
   "execution_count": null,
   "id": "93ebb1c5",
   "metadata": {},
   "outputs": [],
   "source": []
  },
  {
   "cell_type": "code",
   "execution_count": null,
   "id": "0d205828",
   "metadata": {},
   "outputs": [],
   "source": []
  },
  {
   "cell_type": "code",
   "execution_count": 30,
   "id": "c577d85a",
   "metadata": {},
   "outputs": [
    {
     "name": "stdout",
     "output_type": "stream",
     "text": [
      "PwskillsPwskills"
     ]
    }
   ],
   "source": [
    "for c in ['d','m','dm','dl']:\n",
    "    if len(c) != 2 :\n",
    "        print('Pwskills',end='')"
   ]
  },
  {
   "cell_type": "code",
   "execution_count": 31,
   "id": "9881af37",
   "metadata": {},
   "outputs": [
    {
     "name": "stdout",
     "output_type": "stream",
     "text": [
      "105\n"
     ]
    }
   ],
   "source": [
    "sum = 0\n",
    "for i in range(1,100):\n",
    "    sum += i\n",
    "    if sum > 100:\n",
    "        break\n",
    "print(sum)"
   ]
  },
  {
   "cell_type": "code",
   "execution_count": null,
   "id": "17312782",
   "metadata": {},
   "outputs": [],
   "source": []
  },
  {
   "cell_type": "code",
   "execution_count": 3,
   "id": "8fdd1376",
   "metadata": {},
   "outputs": [
    {
     "name": "stdout",
     "output_type": "stream",
     "text": [
      "2\n",
      "6\n",
      "12\n",
      "20\n",
      "30\n",
      "42\n",
      "56\n",
      "72\n",
      "90\n",
      "110\n",
      "110\n"
     ]
    }
   ],
   "source": [
    "n = 2\n",
    "s = 0\n",
    "\n",
    "c = 0\n",
    "while n <= 20:\n",
    "    s += n\n",
    "    n += 2\n",
    "    c += 1\n",
    "    print(s)\n",
    "    \n",
    "print(s)"
   ]
  },
  {
   "cell_type": "code",
   "execution_count": 4,
   "id": "c0eac28b",
   "metadata": {},
   "outputs": [
    {
     "name": "stdout",
     "output_type": "stream",
     "text": [
      "True\n"
     ]
    }
   ],
   "source": [
    "for i in 'pwskills':\n",
    "    if i.lower() in ['a','e','i','o','u']:\n",
    "        print(True)"
   ]
  },
  {
   "cell_type": "code",
   "execution_count": 5,
   "id": "4fb9c9b4",
   "metadata": {},
   "outputs": [],
   "source": [
    "l=[{1,2,3}]"
   ]
  },
  {
   "cell_type": "code",
   "execution_count": null,
   "id": "51f6f114",
   "metadata": {},
   "outputs": [],
   "source": []
  }
 ],
 "metadata": {
  "kernelspec": {
   "display_name": "Python 3 (ipykernel)",
   "language": "python",
   "name": "python3"
  },
  "language_info": {
   "codemirror_mode": {
    "name": "ipython",
    "version": 3
   },
   "file_extension": ".py",
   "mimetype": "text/x-python",
   "name": "python",
   "nbconvert_exporter": "python",
   "pygments_lexer": "ipython3",
   "version": "3.11.0"
  }
 },
 "nbformat": 4,
 "nbformat_minor": 5
}
