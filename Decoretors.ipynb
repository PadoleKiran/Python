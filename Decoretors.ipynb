{
 "cells": [
  {
   "cell_type": "code",
   "execution_count": 1,
   "id": "be71fccc",
   "metadata": {},
   "outputs": [],
   "source": [
    "# Normal function \n",
    "def test():\n",
    "    print(\"Strat point of function !!\")\n",
    "    \n",
    "    print(\"this function is runnting now \")\n",
    "    print(5+6)\n",
    "    \n",
    "    print(\"This is the end part of function\")"
   ]
  },
  {
   "cell_type": "code",
   "execution_count": 2,
   "id": "ca4e9184",
   "metadata": {},
   "outputs": [
    {
     "name": "stdout",
     "output_type": "stream",
     "text": [
      "Strat point of function !!\n",
      "this function is runnting now \n",
      "11\n",
      "This is the end part of function\n"
     ]
    }
   ],
   "source": [
    "test()"
   ]
  },
  {
   "cell_type": "code",
   "execution_count": 3,
   "id": "dad00bad",
   "metadata": {},
   "outputs": [],
   "source": [
    "#if we want this staring and ending part of the function automatically then we will use decoretor function"
   ]
  },
  {
   "cell_type": "code",
   "execution_count": 4,
   "id": "85a51317",
   "metadata": {},
   "outputs": [],
   "source": [
    "def decoret(func):\n",
    "    def inner_dec():\n",
    "        print(\"This is staring point of the function\")\n",
    "        \n",
    "        func()\n",
    "        \n",
    "        print(\"Thsi is ending point of function\")\n",
    "        \n",
    "    return inner_dec()"
   ]
  },
  {
   "cell_type": "code",
   "execution_count": 7,
   "id": "452372df",
   "metadata": {},
   "outputs": [],
   "source": [
    "def func(): #thisis noraml function\n",
    "    print(5+4)"
   ]
  },
  {
   "cell_type": "code",
   "execution_count": 8,
   "id": "950a1990",
   "metadata": {},
   "outputs": [
    {
     "name": "stdout",
     "output_type": "stream",
     "text": [
      "9\n"
     ]
    }
   ],
   "source": [
    "func()"
   ]
  },
  {
   "cell_type": "code",
   "execution_count": 9,
   "id": "4b9b84e8",
   "metadata": {},
   "outputs": [
    {
     "name": "stdout",
     "output_type": "stream",
     "text": [
      "This is staring point of the function\n",
      "9\n",
      "Thsi is ending point of function\n"
     ]
    }
   ],
   "source": [
    "@decoret      #this is and decorator function \n",
    "def func():\n",
    "    print(5+4)"
   ]
  },
  {
   "cell_type": "code",
   "execution_count": null,
   "id": "95cfb106",
   "metadata": {},
   "outputs": [],
   "source": []
  },
  {
   "cell_type": "code",
   "execution_count": 22,
   "id": "c71e1f25",
   "metadata": {},
   "outputs": [],
   "source": [
    "import time\n",
    "\n",
    "def timer_fun(func):\n",
    "    def inner_timer():\n",
    "        start = time.time()\n",
    "        \n",
    "        func()\n",
    "        \n",
    "        end = time.time()\n",
    "        \n",
    "        print(\"that much time required for run program : \",end-start)\n",
    "        \n",
    "    return inner_timer()"
   ]
  },
  {
   "cell_type": "code",
   "execution_count": 23,
   "id": "8e2ba4d0",
   "metadata": {},
   "outputs": [
    {
     "name": "stdout",
     "output_type": "stream",
     "text": [
      "9\n",
      "that much time required for run program :  0.0\n"
     ]
    }
   ],
   "source": [
    "@timer_fun\n",
    "def test2():\n",
    "    print(5+4)"
   ]
  },
  {
   "cell_type": "code",
   "execution_count": 24,
   "id": "737a9a25",
   "metadata": {},
   "outputs": [
    {
     "name": "stdout",
     "output_type": "stream",
     "text": [
      "that much time required for run program :  0.3510599136352539\n"
     ]
    }
   ],
   "source": [
    "@timer_fun\n",
    "def test2():\n",
    "    for i in range(10100000):\n",
    "        pass"
   ]
  },
  {
   "cell_type": "code",
   "execution_count": null,
   "id": "95ad3490",
   "metadata": {},
   "outputs": [],
   "source": []
  }
 ],
 "metadata": {
  "kernelspec": {
   "display_name": "Python 3 (ipykernel)",
   "language": "python",
   "name": "python3"
  },
  "language_info": {
   "codemirror_mode": {
    "name": "ipython",
    "version": 3
   },
   "file_extension": ".py",
   "mimetype": "text/x-python",
   "name": "python",
   "nbconvert_exporter": "python",
   "pygments_lexer": "ipython3",
   "version": "3.11.0"
  }
 },
 "nbformat": 4,
 "nbformat_minor": 5
}
