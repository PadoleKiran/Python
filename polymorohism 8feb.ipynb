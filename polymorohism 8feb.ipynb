{
 "cells": [
  {
   "cell_type": "code",
   "execution_count": 1,
   "id": "f89bb2e2",
   "metadata": {},
   "outputs": [],
   "source": [
    "#one entity which hanving different different bheviour in different different\n",
    "#switchvation\n",
    "\n",
    "#eg we as human , we are some one's son ,some one's parent,some one's brother"
   ]
  },
  {
   "cell_type": "code",
   "execution_count": 4,
   "id": "cf081714",
   "metadata": {},
   "outputs": [
    {
     "name": "stdout",
     "output_type": "stream",
     "text": [
      "11\n",
      "abcxyz\n"
     ]
    }
   ],
   "source": [
    "def test(a,b):\n",
    "    return a + b\n",
    "\n",
    "print(test(3,8)) #when integer pass\n",
    "print(test(\"abc\",\"xyz\")) #when string is pass"
   ]
  },
  {
   "cell_type": "code",
   "execution_count": 5,
   "id": "6989f5e1",
   "metadata": {},
   "outputs": [],
   "source": [
    "#different bheviour in different switchvation"
   ]
  },
  {
   "cell_type": "code",
   "execution_count": null,
   "id": "22f7ea5b",
   "metadata": {},
   "outputs": [],
   "source": []
  },
  {
   "cell_type": "code",
   "execution_count": 13,
   "id": "19aeac47",
   "metadata": {},
   "outputs": [],
   "source": [
    "class d_s:\n",
    "    \n",
    "    def syl(self):\n",
    "        print(\"This is my syllabus !!\")"
   ]
  },
  {
   "cell_type": "code",
   "execution_count": 14,
   "id": "ea91ccf7",
   "metadata": {},
   "outputs": [],
   "source": [
    "class w_d:\n",
    "    \n",
    "    def syl(self):\n",
    "        print(\"This is web dev syllabus !!\")\n",
    "        "
   ]
  },
  {
   "cell_type": "code",
   "execution_count": 15,
   "id": "1000d263",
   "metadata": {},
   "outputs": [],
   "source": [
    "def class_parcer(class_obj):\n",
    "    for i in class_obj:\n",
    "        i.syl()"
   ]
  },
  {
   "cell_type": "code",
   "execution_count": 16,
   "id": "b413e596",
   "metadata": {},
   "outputs": [],
   "source": [
    "d_s = d_s()"
   ]
  },
  {
   "cell_type": "code",
   "execution_count": 17,
   "id": "c5327f79",
   "metadata": {},
   "outputs": [],
   "source": [
    "w_d = w_d()"
   ]
  },
  {
   "cell_type": "code",
   "execution_count": 18,
   "id": "7d824531",
   "metadata": {},
   "outputs": [],
   "source": [
    "class_obj = [d_s,w_d]"
   ]
  },
  {
   "cell_type": "code",
   "execution_count": 19,
   "id": "7de6633a",
   "metadata": {},
   "outputs": [
    {
     "name": "stdout",
     "output_type": "stream",
     "text": [
      "This is my syllabus !!\n",
      "This is web dev syllabus !!\n"
     ]
    }
   ],
   "source": [
    "class_parcer(class_obj)"
   ]
  },
  {
   "cell_type": "code",
   "execution_count": null,
   "id": "4145ec1b",
   "metadata": {},
   "outputs": [],
   "source": []
  }
 ],
 "metadata": {
  "kernelspec": {
   "display_name": "Python 3 (ipykernel)",
   "language": "python",
   "name": "python3"
  },
  "language_info": {
   "codemirror_mode": {
    "name": "ipython",
    "version": 3
   },
   "file_extension": ".py",
   "mimetype": "text/x-python",
   "name": "python",
   "nbconvert_exporter": "python",
   "pygments_lexer": "ipython3",
   "version": "3.11.0"
  }
 },
 "nbformat": 4,
 "nbformat_minor": 5
}
