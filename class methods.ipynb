{
 "cells": [
  {
   "cell_type": "code",
   "execution_count": 14,
   "id": "9bd7d1f0",
   "metadata": {},
   "outputs": [],
   "source": [
    "class A:\n",
    "    def __init__(self,name,mail):\n",
    "        self.name = name\n",
    "        self.mail = mail\n",
    "        \n",
    "    def student_info(self):\n",
    "        print(\"name: \",self.name,\"\\nmail Id :\",self.mail)"
   ]
  },
  {
   "cell_type": "code",
   "execution_count": 15,
   "id": "dbeabbe2",
   "metadata": {},
   "outputs": [],
   "source": [
    "ob = A(\"kiran\",\"Abc.gmail.com\")"
   ]
  },
  {
   "cell_type": "code",
   "execution_count": 16,
   "id": "1928f918",
   "metadata": {},
   "outputs": [
    {
     "data": {
      "text/plain": [
       "'kiran'"
      ]
     },
     "execution_count": 16,
     "metadata": {},
     "output_type": "execute_result"
    }
   ],
   "source": [
    "ob.name"
   ]
  },
  {
   "cell_type": "code",
   "execution_count": 17,
   "id": "e928955a",
   "metadata": {},
   "outputs": [
    {
     "name": "stdout",
     "output_type": "stream",
     "text": [
      "name:  kiran \n",
      "mail Id : Abc.gmail.com\n"
     ]
    }
   ],
   "source": [
    "ob.student_info()"
   ]
  },
  {
   "cell_type": "code",
   "execution_count": null,
   "id": "57f711dd",
   "metadata": {},
   "outputs": [],
   "source": []
  },
  {
   "cell_type": "code",
   "execution_count": 30,
   "id": "651a7cc0",
   "metadata": {},
   "outputs": [],
   "source": [
    "class B:\n",
    "    def __init__(self,name,mail):\n",
    "        self.name = name\n",
    "        self.mail = mail\n",
    "    \n",
    "    @classmethod  \n",
    "    def details(cls,name,mail):\n",
    "        return cls(name,mail)\n",
    "    \n",
    "    def student_info(self):\n",
    "        print(\"name: \",self.name,\"\\nmail Id :\",self.mail)"
   ]
  },
  {
   "cell_type": "code",
   "execution_count": 31,
   "id": "57529014",
   "metadata": {},
   "outputs": [
    {
     "data": {
      "text/plain": [
       "<__main__.B at 0x195ccdba210>"
      ]
     },
     "execution_count": 31,
     "metadata": {},
     "output_type": "execute_result"
    }
   ],
   "source": [
    "B.details(\"kiran\",\"k@gmail.com\")  #without create object we can directly pass the value to details function"
   ]
  },
  {
   "cell_type": "code",
   "execution_count": 32,
   "id": "a01e9a97",
   "metadata": {},
   "outputs": [],
   "source": [
    "ob = B.details(\"kiran\",\"k@gmail.com\") "
   ]
  },
  {
   "cell_type": "code",
   "execution_count": 33,
   "id": "99b55617",
   "metadata": {},
   "outputs": [
    {
     "data": {
      "text/plain": [
       "'kiran'"
      ]
     },
     "execution_count": 33,
     "metadata": {},
     "output_type": "execute_result"
    }
   ],
   "source": [
    "ob.name"
   ]
  },
  {
   "cell_type": "code",
   "execution_count": 34,
   "id": "baa7c815",
   "metadata": {
    "scrolled": true
   },
   "outputs": [
    {
     "data": {
      "text/plain": [
       "'k@gmail.com'"
      ]
     },
     "execution_count": 34,
     "metadata": {},
     "output_type": "execute_result"
    }
   ],
   "source": [
    "ob.mail"
   ]
  },
  {
   "cell_type": "code",
   "execution_count": 36,
   "id": "5d2c09d4",
   "metadata": {},
   "outputs": [
    {
     "data": {
      "text/plain": [
       "<bound method B.details of <class '__main__.B'>>"
      ]
     },
     "execution_count": 36,
     "metadata": {},
     "output_type": "execute_result"
    }
   ],
   "source": [
    "ob.details"
   ]
  },
  {
   "cell_type": "code",
   "execution_count": 41,
   "id": "98d3d8b4",
   "metadata": {},
   "outputs": [
    {
     "ename": "TypeError",
     "evalue": "B.details() missing 2 required positional arguments: 'name' and 'mail'",
     "output_type": "error",
     "traceback": [
      "\u001b[1;31m---------------------------------------------------------------------------\u001b[0m",
      "\u001b[1;31mTypeError\u001b[0m                                 Traceback (most recent call last)",
      "Cell \u001b[1;32mIn [41], line 1\u001b[0m\n\u001b[1;32m----> 1\u001b[0m \u001b[43mob\u001b[49m\u001b[38;5;241;43m.\u001b[39;49m\u001b[43mdetails\u001b[49m\u001b[43m(\u001b[49m\u001b[43m)\u001b[49m\n",
      "\u001b[1;31mTypeError\u001b[0m: B.details() missing 2 required positional arguments: 'name' and 'mail'"
     ]
    }
   ],
   "source": [
    "ob.details()"
   ]
  },
  {
   "cell_type": "code",
   "execution_count": 42,
   "id": "db44f601",
   "metadata": {},
   "outputs": [
    {
     "name": "stdout",
     "output_type": "stream",
     "text": [
      "name:  kiran \n",
      "mail Id : k@gmail.com\n"
     ]
    }
   ],
   "source": [
    "ob.student_info()"
   ]
  },
  {
   "cell_type": "code",
   "execution_count": null,
   "id": "f3dfacff",
   "metadata": {},
   "outputs": [],
   "source": []
  },
  {
   "cell_type": "code",
   "execution_count": 49,
   "id": "3353b03b",
   "metadata": {},
   "outputs": [],
   "source": [
    "class B:\n",
    "    \n",
    "    num = 7894561230\n",
    "    \n",
    "    def __init__(self,name,mail):\n",
    "        self.name = name\n",
    "        self.mail = mail\n",
    "    \n",
    "    @classmethod     #by this class method without crating object we can access this method\n",
    "    def details(cls,name,mail):\n",
    "        return cls(name,mail)\n",
    "    \n",
    "    @classmethod\n",
    "    def change_num(cla,num2):\n",
    "        B.num = num2\n",
    "    \n",
    "    def student_info(self):\n",
    "        print(\"name: \",self.name,\"\\nmail Id :\",self.mail)"
   ]
  },
  {
   "cell_type": "code",
   "execution_count": 50,
   "id": "2dea9629",
   "metadata": {},
   "outputs": [
    {
     "data": {
      "text/plain": [
       "7894561230"
      ]
     },
     "execution_count": 50,
     "metadata": {},
     "output_type": "execute_result"
    }
   ],
   "source": [
    "B.num  #we can access this number without creating object"
   ]
  },
  {
   "cell_type": "code",
   "execution_count": 51,
   "id": "4b6d1d1a",
   "metadata": {},
   "outputs": [],
   "source": [
    "B.change_num(9850780471)"
   ]
  },
  {
   "cell_type": "code",
   "execution_count": 52,
   "id": "a8f9592d",
   "metadata": {},
   "outputs": [
    {
     "data": {
      "text/plain": [
       "9850780471"
      ]
     },
     "execution_count": 52,
     "metadata": {},
     "output_type": "execute_result"
    }
   ],
   "source": [
    "B.num"
   ]
  },
  {
   "cell_type": "code",
   "execution_count": 54,
   "id": "9c4f86ed",
   "metadata": {},
   "outputs": [],
   "source": [
    "#by the use of @calssmethod we can overlode the __init__ class"
   ]
  },
  {
   "cell_type": "code",
   "execution_count": null,
   "id": "7ecd86fa",
   "metadata": {},
   "outputs": [],
   "source": []
  },
  {
   "cell_type": "code",
   "execution_count": 55,
   "id": "62756010",
   "metadata": {},
   "outputs": [],
   "source": [
    "#how to add extrnal funtion in our class "
   ]
  },
  {
   "cell_type": "code",
   "execution_count": 56,
   "id": "8c3db413",
   "metadata": {},
   "outputs": [],
   "source": [
    "#external function\n",
    "def fun_exe(cls,course):\n",
    "    print(\"course name is :\",course)"
   ]
  },
  {
   "cell_type": "code",
   "execution_count": 57,
   "id": "d1c89b99",
   "metadata": {},
   "outputs": [
    {
     "ename": "AttributeError",
     "evalue": "type object 'B' has no attribute 'fun_exe'",
     "output_type": "error",
     "traceback": [
      "\u001b[1;31m---------------------------------------------------------------------------\u001b[0m",
      "\u001b[1;31mAttributeError\u001b[0m                            Traceback (most recent call last)",
      "Cell \u001b[1;32mIn [57], line 1\u001b[0m\n\u001b[1;32m----> 1\u001b[0m \u001b[43mB\u001b[49m\u001b[38;5;241;43m.\u001b[39;49m\u001b[43mfun_exe\u001b[49m()\n",
      "\u001b[1;31mAttributeError\u001b[0m: type object 'B' has no attribute 'fun_exe'"
     ]
    }
   ],
   "source": [
    "B.fun_exe()  #this is not part of Class B"
   ]
  },
  {
   "cell_type": "code",
   "execution_count": 58,
   "id": "aed92203",
   "metadata": {},
   "outputs": [],
   "source": [
    "B.fun_exe = classmethod(fun_exe)"
   ]
  },
  {
   "cell_type": "code",
   "execution_count": 62,
   "id": "2df53705",
   "metadata": {},
   "outputs": [
    {
     "name": "stdout",
     "output_type": "stream",
     "text": [
      "course name is : python\n"
     ]
    }
   ],
   "source": [
    "B.fun_exe(\"python\")    #now this is part of class B\n",
    "                       #this is outsider function now available to B class"
   ]
  },
  {
   "cell_type": "code",
   "execution_count": null,
   "id": "5c707993",
   "metadata": {},
   "outputs": [],
   "source": []
  },
  {
   "cell_type": "code",
   "execution_count": null,
   "id": "c84df8f9",
   "metadata": {},
   "outputs": [],
   "source": []
  },
  {
   "cell_type": "code",
   "execution_count": null,
   "id": "0ca8fd2f",
   "metadata": {},
   "outputs": [],
   "source": []
  },
  {
   "cell_type": "code",
   "execution_count": null,
   "id": "a4d617f0",
   "metadata": {},
   "outputs": [],
   "source": []
  },
  {
   "cell_type": "code",
   "execution_count": 77,
   "id": "1a91709a",
   "metadata": {},
   "outputs": [],
   "source": [
    "class c:\n",
    "    \n",
    "    num = 7894561230\n",
    "    \n",
    "    def __init__(self,name,mail):\n",
    "        self.name = name\n",
    "        self.mail = mail\n",
    "    \n",
    "    @classmethod     #by this class method without crating object we can access this method\n",
    "    def details(cls,name,mail):\n",
    "        return cls(name,mail)\n",
    "    \n",
    "    @classmethod\n",
    "    def change_num(cla,num2):\n",
    "        B.num = num2\n",
    "    \n",
    "    def student_info(self):\n",
    "        print(\"name: \",self.name,\"\\nmail Id :\",self.mail)"
   ]
  },
  {
   "cell_type": "code",
   "execution_count": 78,
   "id": "efc263ea",
   "metadata": {},
   "outputs": [],
   "source": [
    "del c.change_num"
   ]
  },
  {
   "cell_type": "code",
   "execution_count": 79,
   "id": "abb5adf7",
   "metadata": {},
   "outputs": [
    {
     "ename": "AttributeError",
     "evalue": "type object 'c' has no attribute 'change_num'",
     "output_type": "error",
     "traceback": [
      "\u001b[1;31m---------------------------------------------------------------------------\u001b[0m",
      "\u001b[1;31mAttributeError\u001b[0m                            Traceback (most recent call last)",
      "Cell \u001b[1;32mIn [79], line 1\u001b[0m\n\u001b[1;32m----> 1\u001b[0m \u001b[43mc\u001b[49m\u001b[38;5;241;43m.\u001b[39;49m\u001b[43mchange_num\u001b[49m(\u001b[38;5;241m9850780471\u001b[39m)\n",
      "\u001b[1;31mAttributeError\u001b[0m: type object 'c' has no attribute 'change_num'"
     ]
    }
   ],
   "source": [
    "c.change_num(9850780471)"
   ]
  },
  {
   "cell_type": "code",
   "execution_count": 80,
   "id": "6b6fc04b",
   "metadata": {},
   "outputs": [],
   "source": [
    "delattr(c,\"details\")     #this function can also delete the methods in to the class"
   ]
  },
  {
   "cell_type": "code",
   "execution_count": 81,
   "id": "087f6ccb",
   "metadata": {},
   "outputs": [
    {
     "ename": "AttributeError",
     "evalue": "type object 'c' has no attribute 'details'",
     "output_type": "error",
     "traceback": [
      "\u001b[1;31m---------------------------------------------------------------------------\u001b[0m",
      "\u001b[1;31mAttributeError\u001b[0m                            Traceback (most recent call last)",
      "Cell \u001b[1;32mIn [81], line 1\u001b[0m\n\u001b[1;32m----> 1\u001b[0m \u001b[43mc\u001b[49m\u001b[38;5;241;43m.\u001b[39;49m\u001b[43mdetails\u001b[49m\n",
      "\u001b[1;31mAttributeError\u001b[0m: type object 'c' has no attribute 'details'"
     ]
    }
   ],
   "source": [
    "c.details"
   ]
  },
  {
   "cell_type": "code",
   "execution_count": null,
   "id": "91fd4c39",
   "metadata": {},
   "outputs": [],
   "source": []
  },
  {
   "cell_type": "code",
   "execution_count": 82,
   "id": "c2ab4e68",
   "metadata": {},
   "outputs": [],
   "source": [
    "#delattr(class_name,\"Method_name which we want ot delete\")"
   ]
  },
  {
   "cell_type": "code",
   "execution_count": null,
   "id": "a0678728",
   "metadata": {},
   "outputs": [],
   "source": []
  }
 ],
 "metadata": {
  "kernelspec": {
   "display_name": "Python 3 (ipykernel)",
   "language": "python",
   "name": "python3"
  },
  "language_info": {
   "codemirror_mode": {
    "name": "ipython",
    "version": 3
   },
   "file_extension": ".py",
   "mimetype": "text/x-python",
   "name": "python",
   "nbconvert_exporter": "python",
   "pygments_lexer": "ipython3",
   "version": "3.11.0"
  }
 },
 "nbformat": 4,
 "nbformat_minor": 5
}
