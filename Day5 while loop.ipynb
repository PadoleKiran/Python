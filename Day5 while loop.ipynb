{
 "cells": [
  {
   "cell_type": "markdown",
   "id": "d8dee28d",
   "metadata": {},
   "source": [
    "# while"
   ]
  },
  {
   "cell_type": "code",
   "execution_count": 1,
   "id": "85bf50e7",
   "metadata": {},
   "outputs": [
    {
     "name": "stdout",
     "output_type": "stream",
     "text": [
      "1\n",
      "2\n",
      "3\n",
      "4\n",
      "5\n",
      "6\n",
      "7\n",
      "8\n",
      "9\n",
      "10\n"
     ]
    }
   ],
   "source": [
    "\"\"\"\" while loop check condition first \n",
    "for loop can not check condition first \"\"\"\n",
    "\n",
    "a = 1\n",
    "\n",
    "while a<= 10:\n",
    "    print(a)\n",
    "    a = a + 1 "
   ]
  },
  {
   "cell_type": "code",
   "execution_count": 5,
   "id": "8bd31e60",
   "metadata": {},
   "outputs": [
    {
     "name": "stdout",
     "output_type": "stream",
     "text": [
      "***** \n",
      "**** \n",
      "*** \n",
      "** \n",
      "* \n"
     ]
    }
   ],
   "source": [
    "for i in range(5,0,-1):\n",
    "    print(\"*\"*i,end=\" \"+\"\\n\")"
   ]
  },
  {
   "cell_type": "code",
   "execution_count": 10,
   "id": "51234da1",
   "metadata": {},
   "outputs": [
    {
     "name": "stdout",
     "output_type": "stream",
     "text": [
      "Enter the number : 5\n",
      "15\n"
     ]
    }
   ],
   "source": [
    "#sum of n numeber \n",
    "\n",
    "num = int(input(\"Enter the number : \"))\n",
    "\n",
    "starting_point = 0;\n",
    "counter = 1\n",
    "\n",
    "while counter <= num:\n",
    "    starting_point = starting_point + counter\n",
    "    \n",
    "    counter += 1\n",
    "    \n",
    "print(starting_point)"
   ]
  },
  {
   "cell_type": "code",
   "execution_count": 4,
   "id": "0d9371a7",
   "metadata": {},
   "outputs": [
    {
     "name": "stdout",
     "output_type": "stream",
     "text": [
      "Enter the number :3\n",
      "6\n"
     ]
    }
   ],
   "source": [
    "#factorila of n number \n",
    "\n",
    "# 1 solution\n",
    "\n",
    "num = int(input(\"Enter the number :\"))\n",
    "fact = 1\n",
    "count = 1\n",
    "\n",
    "while count <= num:\n",
    "    fact = fact * count\n",
    "    \n",
    "    count += 1\n",
    "    \n",
    "print(fact)"
   ]
  },
  {
   "cell_type": "code",
   "execution_count": 10,
   "id": "9a6b9ea6",
   "metadata": {},
   "outputs": [
    {
     "name": "stdout",
     "output_type": "stream",
     "text": [
      "Enter the number :3\n",
      "6\n"
     ]
    }
   ],
   "source": [
    "# 2nd approach \n",
    "num = int(input(\"Enter the number :\"))\n",
    "factorial = 1 \n",
    "\n",
    "while num> 0:\n",
    "    factorial= factorial * num\n",
    "    num -= 1\n",
    "    \n",
    "print(factorial)"
   ]
  },
  {
   "cell_type": "code",
   "execution_count": 11,
   "id": "a1bd23b7",
   "metadata": {},
   "outputs": [
    {
     "name": "stdout",
     "output_type": "stream",
     "text": [
      "Enter the number :5\n",
      "0 1 1 2 3 5 "
     ]
    }
   ],
   "source": [
    "#fibonaci series \n",
    "# 0 1 1 2 3 5 8\n",
    "num1 = 0\n",
    "num2 = 1 \n",
    "\n",
    "num = int(input(\"Enter the number :\"))\n",
    "fibo = 0\n",
    "\n",
    "while fibo <= num:\n",
    "    print(num1 ,end = \" \")\n",
    "    num3 = num1 + num2\n",
    "    \n",
    "    num1 = num2\n",
    "    num2 = num3\n",
    "    fibo += 1\n",
    "    \n"
   ]
  },
  {
   "cell_type": "code",
   "execution_count": 15,
   "id": "255b4b59",
   "metadata": {},
   "outputs": [
    {
     "name": "stdout",
     "output_type": "stream",
     "text": [
      "Enter the number :5\n",
      "0 1 1 2 3 "
     ]
    }
   ],
   "source": [
    "num = int(input(\"Enter the number :\"))\n",
    "num1 = 0\n",
    "num2 = 1\n",
    "\n",
    "for i in range(num):\n",
    "    print(num1,end=\" \")\n",
    "    num3 = num1 + num2\n",
    "    \n",
    "    num1 = num2\n",
    "    num2 = num3"
   ]
  },
  {
   "cell_type": "code",
   "execution_count": 2,
   "id": "a1ec0933",
   "metadata": {},
   "outputs": [
    {
     "data": {
      "text/plain": [
       "'narik'"
      ]
     },
     "execution_count": 2,
     "metadata": {},
     "output_type": "execute_result"
    }
   ],
   "source": [
    "w = \"kiran\"\n",
    "w[::-1]\n"
   ]
  },
  {
   "cell_type": "code",
   "execution_count": 5,
   "id": "cd6e080c",
   "metadata": {},
   "outputs": [
    {
     "name": "stdout",
     "output_type": "stream",
     "text": [
      "narik\n"
     ]
    }
   ],
   "source": [
    "s = \"\"\n",
    "l = len(w)\n",
    "\n",
    "while l > 0:\n",
    "    s = s + w[l-1]\n",
    "    l -= 1\n",
    "    \n",
    "print(s)"
   ]
  },
  {
   "cell_type": "code",
   "execution_count": 10,
   "id": "ce0c8431",
   "metadata": {},
   "outputs": [
    {
     "name": "stdout",
     "output_type": "stream",
     "text": [
      "kiran padole\n"
     ]
    }
   ],
   "source": [
    "s = \"kiran\"\n",
    "a = \" \"\n",
    "k = \"padole\"\n",
    "\n",
    "s = s + a + k\n",
    "\n",
    "print(s)"
   ]
  },
  {
   "cell_type": "code",
   "execution_count": 14,
   "id": "bd93d49f",
   "metadata": {},
   "outputs": [
    {
     "name": "stdout",
     "output_type": "stream",
     "text": [
      "Which table do you want : 5\n",
      "5 * 1  =  5\n",
      "5 * 2  =  10\n",
      "5 * 3  =  15\n",
      "5 * 4  =  20\n",
      "5 * 5  =  25\n",
      "5 * 6  =  30\n",
      "5 * 7  =  35\n",
      "5 * 8  =  40\n",
      "5 * 9  =  45\n",
      "5 * 10  =  50\n"
     ]
    }
   ],
   "source": [
    "#table of the numbers\n",
    "\n",
    "num = int(input(\"Which table do you want : \"))\n",
    "i = 1\n",
    "while i <= 10:\n",
    "    table = num * i\n",
    "    print(num,\"*\",i,\" = \",table)\n",
    "    i += 1\n",
    "    \n",
    "    "
   ]
  },
  {
   "cell_type": "code",
   "execution_count": 18,
   "id": "1d997932",
   "metadata": {},
   "outputs": [
    {
     "name": "stdout",
     "output_type": "stream",
     "text": [
      "1\n",
      "2\n",
      "3\n"
     ]
    }
   ],
   "source": [
    "i = 1\n",
    "\n",
    "while i < 5:\n",
    "    print(i)\n",
    "    if i == 3:\n",
    "        break\n",
    "    i += 1\n",
    "    \n",
    "else :\n",
    "    print(\"when our while loop executed succesfully then and then only our else block will be run\")"
   ]
  },
  {
   "cell_type": "code",
   "execution_count": null,
   "id": "c8ee023b",
   "metadata": {},
   "outputs": [],
   "source": []
  }
 ],
 "metadata": {
  "kernelspec": {
   "display_name": "Python 3 (ipykernel)",
   "language": "python",
   "name": "python3"
  },
  "language_info": {
   "codemirror_mode": {
    "name": "ipython",
    "version": 3
   },
   "file_extension": ".py",
   "mimetype": "text/x-python",
   "name": "python",
   "nbconvert_exporter": "python",
   "pygments_lexer": "ipython3",
   "version": "3.11.0"
  }
 },
 "nbformat": 4,
 "nbformat_minor": 5
}
