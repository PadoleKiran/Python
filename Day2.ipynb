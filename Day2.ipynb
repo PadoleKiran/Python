{
 "cells": [
  {
   "cell_type": "markdown",
   "id": "06dda5d6",
   "metadata": {},
   "source": [
    "# List"
   ]
  },
  {
   "cell_type": "code",
   "execution_count": 1,
   "id": "51b139be",
   "metadata": {},
   "outputs": [],
   "source": [
    "#primative data type = int float boolean string"
   ]
  },
  {
   "cell_type": "code",
   "execution_count": 2,
   "id": "8eb00070",
   "metadata": {},
   "outputs": [],
   "source": [
    "#list is data type in which we can store same ass well as differen data"
   ]
  },
  {
   "cell_type": "code",
   "execution_count": 3,
   "id": "d0aebd0e",
   "metadata": {},
   "outputs": [],
   "source": [
    "l = [1,2,'a',True]"
   ]
  },
  {
   "cell_type": "code",
   "execution_count": 4,
   "id": "e83a804e",
   "metadata": {},
   "outputs": [
    {
     "data": {
      "text/plain": [
       "[1, 2, 'a', True]"
      ]
     },
     "execution_count": 4,
     "metadata": {},
     "output_type": "execute_result"
    }
   ],
   "source": [
    "l"
   ]
  },
  {
   "cell_type": "code",
   "execution_count": 5,
   "id": "ba9d95bc",
   "metadata": {},
   "outputs": [
    {
     "data": {
      "text/plain": [
       "list"
      ]
     },
     "execution_count": 5,
     "metadata": {},
     "output_type": "execute_result"
    }
   ],
   "source": [
    "type(l)"
   ]
  },
  {
   "cell_type": "code",
   "execution_count": 6,
   "id": "66100ff2",
   "metadata": {},
   "outputs": [
    {
     "data": {
      "text/plain": [
       "1"
      ]
     },
     "execution_count": 6,
     "metadata": {},
     "output_type": "execute_result"
    }
   ],
   "source": [
    "l[0]"
   ]
  },
  {
   "cell_type": "code",
   "execution_count": 7,
   "id": "f66b10a9",
   "metadata": {},
   "outputs": [
    {
     "data": {
      "text/plain": [
       "[1, 2, 'a', True]"
      ]
     },
     "execution_count": 7,
     "metadata": {},
     "output_type": "execute_result"
    }
   ],
   "source": [
    "l[:]"
   ]
  },
  {
   "cell_type": "code",
   "execution_count": 8,
   "id": "c6939cff",
   "metadata": {},
   "outputs": [
    {
     "data": {
      "text/plain": [
       "[True, 'a', 2, 1]"
      ]
     },
     "execution_count": 8,
     "metadata": {},
     "output_type": "execute_result"
    }
   ],
   "source": [
    "l[::-1]"
   ]
  },
  {
   "cell_type": "code",
   "execution_count": 9,
   "id": "8da61cad",
   "metadata": {},
   "outputs": [],
   "source": [
    "#slicing can apply on list"
   ]
  },
  {
   "cell_type": "code",
   "execution_count": 12,
   "id": "faffb5ae",
   "metadata": {},
   "outputs": [
    {
     "ename": "IndexError",
     "evalue": "list index out of range",
     "output_type": "error",
     "traceback": [
      "\u001b[1;31m---------------------------------------------------------------------------\u001b[0m",
      "\u001b[1;31mIndexError\u001b[0m                                Traceback (most recent call last)",
      "Cell \u001b[1;32mIn [12], line 1\u001b[0m\n\u001b[1;32m----> 1\u001b[0m \u001b[43ml\u001b[49m\u001b[43m[\u001b[49m\u001b[38;5;241;43m90\u001b[39;49m\u001b[43m]\u001b[49m \u001b[38;5;66;03m#lower bond matters in list we can not put range more than size\u001b[39;00m\n",
      "\u001b[1;31mIndexError\u001b[0m: list index out of range"
     ]
    }
   ],
   "source": [
    "l[90] #lower bond matters in list we can not put range more than size"
   ]
  },
  {
   "cell_type": "code",
   "execution_count": 11,
   "id": "d18bbde9",
   "metadata": {},
   "outputs": [
    {
     "data": {
      "text/plain": [
       "[1, 2, 'a', True]"
      ]
     },
     "execution_count": 11,
     "metadata": {},
     "output_type": "execute_result"
    }
   ],
   "source": [
    "l[:90]"
   ]
  },
  {
   "cell_type": "code",
   "execution_count": 13,
   "id": "e0a559e6",
   "metadata": {},
   "outputs": [
    {
     "data": {
      "text/plain": [
       "True"
      ]
     },
     "execution_count": 13,
     "metadata": {},
     "output_type": "execute_result"
    }
   ],
   "source": [
    "l[-1]"
   ]
  },
  {
   "cell_type": "code",
   "execution_count": 14,
   "id": "abc23f46",
   "metadata": {},
   "outputs": [
    {
     "data": {
      "text/plain": [
       "[1, 'a']"
      ]
     },
     "execution_count": 14,
     "metadata": {},
     "output_type": "execute_result"
    }
   ],
   "source": [
    "l[::2]"
   ]
  },
  {
   "cell_type": "code",
   "execution_count": 15,
   "id": "2dc8cb14",
   "metadata": {},
   "outputs": [],
   "source": [
    "l = [1,2,\"kiran\",True,3+7j]"
   ]
  },
  {
   "cell_type": "code",
   "execution_count": 16,
   "id": "0302a25c",
   "metadata": {},
   "outputs": [
    {
     "data": {
      "text/plain": [
       "'kiran'"
      ]
     },
     "execution_count": 16,
     "metadata": {},
     "output_type": "execute_result"
    }
   ],
   "source": [
    "l[2]"
   ]
  },
  {
   "cell_type": "code",
   "execution_count": 17,
   "id": "5e5fb996",
   "metadata": {},
   "outputs": [
    {
     "data": {
      "text/plain": [
       "'ki'"
      ]
     },
     "execution_count": 17,
     "metadata": {},
     "output_type": "execute_result"
    }
   ],
   "source": [
    "l[2][:2]"
   ]
  },
  {
   "cell_type": "code",
   "execution_count": 19,
   "id": "9eb9a740",
   "metadata": {},
   "outputs": [
    {
     "data": {
      "text/plain": [
       "'krn'"
      ]
     },
     "execution_count": 19,
     "metadata": {},
     "output_type": "execute_result"
    }
   ],
   "source": [
    "l[2][::2]"
   ]
  },
  {
   "cell_type": "code",
   "execution_count": 20,
   "id": "ccc93f97",
   "metadata": {},
   "outputs": [
    {
     "data": {
      "text/plain": [
       "True"
      ]
     },
     "execution_count": 20,
     "metadata": {},
     "output_type": "execute_result"
    }
   ],
   "source": [
    "l[3]"
   ]
  },
  {
   "cell_type": "code",
   "execution_count": 21,
   "id": "77658440",
   "metadata": {},
   "outputs": [
    {
     "ename": "TypeError",
     "evalue": "'bool' object is not subscriptable",
     "output_type": "error",
     "traceback": [
      "\u001b[1;31m---------------------------------------------------------------------------\u001b[0m",
      "\u001b[1;31mTypeError\u001b[0m                                 Traceback (most recent call last)",
      "Cell \u001b[1;32mIn [21], line 1\u001b[0m\n\u001b[1;32m----> 1\u001b[0m \u001b[43ml\u001b[49m\u001b[43m[\u001b[49m\u001b[38;5;241;43m3\u001b[39;49m\u001b[43m]\u001b[49m\u001b[43m[\u001b[49m\u001b[43m:\u001b[49m\u001b[38;5;241;43m2\u001b[39;49m\u001b[43m]\u001b[49m\n",
      "\u001b[1;31mTypeError\u001b[0m: 'bool' object is not subscriptable"
     ]
    }
   ],
   "source": [
    "l[3][:2]"
   ]
  },
  {
   "cell_type": "code",
   "execution_count": 22,
   "id": "2d16cedd",
   "metadata": {},
   "outputs": [
    {
     "data": {
      "text/plain": [
       "'Tr'"
      ]
     },
     "execution_count": 22,
     "metadata": {},
     "output_type": "execute_result"
    }
   ],
   "source": [
    "str(l[3])[:2]"
   ]
  },
  {
   "cell_type": "code",
   "execution_count": 23,
   "id": "ca0e1474",
   "metadata": {},
   "outputs": [
    {
     "data": {
      "text/plain": [
       "'eurT'"
      ]
     },
     "execution_count": 23,
     "metadata": {},
     "output_type": "execute_result"
    }
   ],
   "source": [
    "str(l[3])[::-1]"
   ]
  },
  {
   "cell_type": "code",
   "execution_count": 26,
   "id": "807452b4",
   "metadata": {},
   "outputs": [
    {
     "ename": "TypeError",
     "evalue": "can only concatenate list (not \"str\") to list",
     "output_type": "error",
     "traceback": [
      "\u001b[1;31m---------------------------------------------------------------------------\u001b[0m",
      "\u001b[1;31mTypeError\u001b[0m                                 Traceback (most recent call last)",
      "Cell \u001b[1;32mIn [26], line 1\u001b[0m\n\u001b[1;32m----> 1\u001b[0m \u001b[43ml\u001b[49m\u001b[43m \u001b[49m\u001b[38;5;241;43m+\u001b[39;49m\u001b[43m \u001b[49m\u001b[38;5;124;43m\"\u001b[39;49m\u001b[38;5;124;43mbhushan\u001b[39;49m\u001b[38;5;124;43m\"\u001b[39;49m\n",
      "\u001b[1;31mTypeError\u001b[0m: can only concatenate list (not \"str\") to list"
     ]
    }
   ],
   "source": [
    "l + \"bhushan\""
   ]
  },
  {
   "cell_type": "code",
   "execution_count": 27,
   "id": "8df6035a",
   "metadata": {},
   "outputs": [
    {
     "data": {
      "text/plain": [
       "['b', 'h', 'u', 's', 'h', 'a', 'n']"
      ]
     },
     "execution_count": 27,
     "metadata": {},
     "output_type": "execute_result"
    }
   ],
   "source": [
    "list(\"bhushan\")"
   ]
  },
  {
   "cell_type": "code",
   "execution_count": 28,
   "id": "6b22e8fc",
   "metadata": {},
   "outputs": [
    {
     "data": {
      "text/plain": [
       "[1,\n",
       " 2,\n",
       " 'kiran',\n",
       " True,\n",
       " (3+7j),\n",
       " 1,\n",
       " 2,\n",
       " 'kiran',\n",
       " True,\n",
       " (3+7j),\n",
       " 1,\n",
       " 2,\n",
       " 'kiran',\n",
       " True,\n",
       " (3+7j)]"
      ]
     },
     "execution_count": 28,
     "metadata": {},
     "output_type": "execute_result"
    }
   ],
   "source": [
    "l *3"
   ]
  },
  {
   "cell_type": "code",
   "execution_count": 29,
   "id": "64fa435f",
   "metadata": {},
   "outputs": [
    {
     "data": {
      "text/plain": [
       "5"
      ]
     },
     "execution_count": 29,
     "metadata": {},
     "output_type": "execute_result"
    }
   ],
   "source": [
    "len(l)"
   ]
  },
  {
   "cell_type": "code",
   "execution_count": 32,
   "id": "4353c944",
   "metadata": {},
   "outputs": [],
   "source": [
    "l.append(\"bhushan\") #append add object at the end of the lisst"
   ]
  },
  {
   "cell_type": "code",
   "execution_count": 33,
   "id": "dd0a2b55",
   "metadata": {},
   "outputs": [
    {
     "data": {
      "text/plain": [
       "[1, 2, 'kiran', True, (3+7j), 'bhushan', 'bhushan']"
      ]
     },
     "execution_count": 33,
     "metadata": {},
     "output_type": "execute_result"
    }
   ],
   "source": [
    "l"
   ]
  },
  {
   "cell_type": "code",
   "execution_count": 34,
   "id": "aa28ed20",
   "metadata": {},
   "outputs": [],
   "source": [
    "l1 = [1,2,3]"
   ]
  },
  {
   "cell_type": "code",
   "execution_count": 35,
   "id": "7cdcbf10",
   "metadata": {},
   "outputs": [],
   "source": [
    "l.append(l1)"
   ]
  },
  {
   "cell_type": "code",
   "execution_count": 36,
   "id": "75ff5e1f",
   "metadata": {},
   "outputs": [
    {
     "data": {
      "text/plain": [
       "[1, 2, 'kiran', True, (3+7j), 'bhushan', 'bhushan', [1, 2, 3]]"
      ]
     },
     "execution_count": 36,
     "metadata": {},
     "output_type": "execute_result"
    }
   ],
   "source": [
    "l"
   ]
  },
  {
   "cell_type": "code",
   "execution_count": 37,
   "id": "50432410",
   "metadata": {},
   "outputs": [],
   "source": [
    "l.append(l)"
   ]
  },
  {
   "cell_type": "code",
   "execution_count": 38,
   "id": "46004ade",
   "metadata": {},
   "outputs": [
    {
     "data": {
      "text/plain": [
       "[1, 2, 'kiran', True, (3+7j), 'bhushan', 'bhushan', [1, 2, 3], [...]]"
      ]
     },
     "execution_count": 38,
     "metadata": {},
     "output_type": "execute_result"
    }
   ],
   "source": [
    "l"
   ]
  },
  {
   "cell_type": "code",
   "execution_count": 39,
   "id": "38c523ee",
   "metadata": {},
   "outputs": [],
   "source": [
    "l1.append(l1)"
   ]
  },
  {
   "cell_type": "code",
   "execution_count": 41,
   "id": "63c9d076",
   "metadata": {},
   "outputs": [
    {
     "data": {
      "text/plain": [
       "[1, 2, 3, [...]]"
      ]
     },
     "execution_count": 41,
     "metadata": {},
     "output_type": "execute_result"
    }
   ],
   "source": [
    "l1"
   ]
  },
  {
   "cell_type": "code",
   "execution_count": null,
   "id": "a5f5657f",
   "metadata": {},
   "outputs": [],
   "source": []
  },
  {
   "cell_type": "code",
   "execution_count": 42,
   "id": "57dc53e8",
   "metadata": {},
   "outputs": [
    {
     "data": {
      "text/plain": [
       "[1, 2, 3, [...]]"
      ]
     },
     "execution_count": 42,
     "metadata": {},
     "output_type": "execute_result"
    }
   ],
   "source": [
    "l1"
   ]
  },
  {
   "cell_type": "code",
   "execution_count": 47,
   "id": "0e7523c1",
   "metadata": {},
   "outputs": [],
   "source": [
    "l1.extend([3,4,5]) #extend can split each object and add in string"
   ]
  },
  {
   "cell_type": "code",
   "execution_count": 44,
   "id": "dce96a06",
   "metadata": {},
   "outputs": [
    {
     "data": {
      "text/plain": [
       "[1, 2, 3, [...], 3, 4, 5]"
      ]
     },
     "execution_count": 44,
     "metadata": {},
     "output_type": "execute_result"
    }
   ],
   "source": [
    "l1"
   ]
  },
  {
   "cell_type": "code",
   "execution_count": 48,
   "id": "5925263a",
   "metadata": {},
   "outputs": [],
   "source": [
    "l1.extend(\"sandip\") #extend can convert string in to single charecter and add in list"
   ]
  },
  {
   "cell_type": "code",
   "execution_count": 46,
   "id": "f469c878",
   "metadata": {},
   "outputs": [
    {
     "data": {
      "text/plain": [
       "[1, 2, 3, [...], 3, 4, 5, 's', 'a', 'n', 'd', 'i', 'p']"
      ]
     },
     "execution_count": 46,
     "metadata": {},
     "output_type": "execute_result"
    }
   ],
   "source": [
    "l1"
   ]
  },
  {
   "cell_type": "code",
   "execution_count": 49,
   "id": "25688697",
   "metadata": {},
   "outputs": [],
   "source": [
    "#append - add data at end \n",
    "#extends - unreap data and add"
   ]
  },
  {
   "cell_type": "code",
   "execution_count": 50,
   "id": "835c3081",
   "metadata": {},
   "outputs": [],
   "source": [
    "#if we want add data in specific place then we can use insert()"
   ]
  },
  {
   "cell_type": "code",
   "execution_count": 53,
   "id": "d235c0ae",
   "metadata": {},
   "outputs": [],
   "source": [
    "l1.insert(1,\"king\") #(postion , data)"
   ]
  },
  {
   "cell_type": "code",
   "execution_count": 52,
   "id": "3e8b1e91",
   "metadata": {},
   "outputs": [
    {
     "data": {
      "text/plain": [
       "[1,\n",
       " 'king',\n",
       " 2,\n",
       " 3,\n",
       " [...],\n",
       " 3,\n",
       " 4,\n",
       " 5,\n",
       " 's',\n",
       " 'a',\n",
       " 'n',\n",
       " 'd',\n",
       " 'i',\n",
       " 'p',\n",
       " 3,\n",
       " 4,\n",
       " 5,\n",
       " 's',\n",
       " 'a',\n",
       " 'n',\n",
       " 'd',\n",
       " 'i',\n",
       " 'p']"
      ]
     },
     "execution_count": 52,
     "metadata": {},
     "output_type": "execute_result"
    }
   ],
   "source": [
    "l1"
   ]
  },
  {
   "cell_type": "code",
   "execution_count": 54,
   "id": "ffe459fe",
   "metadata": {},
   "outputs": [],
   "source": [
    "#inser push data next postion and add data on that specific location which user said"
   ]
  },
  {
   "cell_type": "code",
   "execution_count": 55,
   "id": "35ba1ea5",
   "metadata": {},
   "outputs": [],
   "source": [
    "l2 = [1,2,3]"
   ]
  },
  {
   "cell_type": "code",
   "execution_count": 58,
   "id": "b8fb5807",
   "metadata": {},
   "outputs": [],
   "source": [
    "l2.insert(-1,45) #in this example we can add data at the last postion and the data which present in curret postion that data can push on next location "
   ]
  },
  {
   "cell_type": "code",
   "execution_count": 57,
   "id": "ddf65d8e",
   "metadata": {},
   "outputs": [
    {
     "data": {
      "text/plain": [
       "[1, 2, 45, 3]"
      ]
     },
     "execution_count": 57,
     "metadata": {},
     "output_type": "execute_result"
    }
   ],
   "source": [
    "l2"
   ]
  },
  {
   "cell_type": "markdown",
   "id": "c10a4429",
   "metadata": {},
   "source": [
    "# pop"
   ]
  },
  {
   "cell_type": "code",
   "execution_count": 59,
   "id": "b54218b0",
   "metadata": {},
   "outputs": [],
   "source": [
    "#if we want delete data form end then we can use pop \n",
    "#pop can remove one bye one data from end "
   ]
  },
  {
   "cell_type": "code",
   "execution_count": 60,
   "id": "11ca6aed",
   "metadata": {},
   "outputs": [
    {
     "data": {
      "text/plain": [
       "[1, 2, 45, 45, 3]"
      ]
     },
     "execution_count": 60,
     "metadata": {},
     "output_type": "execute_result"
    }
   ],
   "source": [
    "l2"
   ]
  },
  {
   "cell_type": "code",
   "execution_count": 61,
   "id": "e0efcbff",
   "metadata": {},
   "outputs": [
    {
     "data": {
      "text/plain": [
       "3"
      ]
     },
     "execution_count": 61,
     "metadata": {},
     "output_type": "execute_result"
    }
   ],
   "source": [
    "l2.pop()"
   ]
  },
  {
   "cell_type": "code",
   "execution_count": 63,
   "id": "98d38993",
   "metadata": {},
   "outputs": [
    {
     "data": {
      "text/plain": [
       "[1, 2, 45, 45]"
      ]
     },
     "execution_count": 63,
     "metadata": {},
     "output_type": "execute_result"
    }
   ],
   "source": [
    "l2 #3 is remove from l2"
   ]
  },
  {
   "cell_type": "code",
   "execution_count": 65,
   "id": "93ac3c6c",
   "metadata": {},
   "outputs": [
    {
     "data": {
      "text/plain": [
       "45"
      ]
     },
     "execution_count": 65,
     "metadata": {},
     "output_type": "execute_result"
    }
   ],
   "source": [
    "l2.pop(2) #2 index value remove"
   ]
  },
  {
   "cell_type": "code",
   "execution_count": 66,
   "id": "ce6ce8c1",
   "metadata": {},
   "outputs": [],
   "source": [
    "#if can not pot indxe in pop the he can take -1 over ther that means last value "
   ]
  },
  {
   "cell_type": "markdown",
   "id": "e8dc19af",
   "metadata": {},
   "source": [
    "# remove"
   ]
  },
  {
   "cell_type": "code",
   "execution_count": 67,
   "id": "89467b92",
   "metadata": {},
   "outputs": [],
   "source": [
    "#remove remove data which we want \n",
    "#it can not remove data from given index he can remove data which given by user"
   ]
  },
  {
   "cell_type": "code",
   "execution_count": 68,
   "id": "7c688209",
   "metadata": {},
   "outputs": [
    {
     "data": {
      "text/plain": [
       "[1, 2]"
      ]
     },
     "execution_count": 68,
     "metadata": {},
     "output_type": "execute_result"
    }
   ],
   "source": [
    "l2"
   ]
  },
  {
   "cell_type": "code",
   "execution_count": 86,
   "id": "a968643b",
   "metadata": {},
   "outputs": [],
   "source": [
    "l2 = [1,2,8,7,5,6]"
   ]
  },
  {
   "cell_type": "code",
   "execution_count": 87,
   "id": "08a0a45f",
   "metadata": {},
   "outputs": [],
   "source": [
    "l2.remove(8) #remove remove 8 from list "
   ]
  },
  {
   "cell_type": "code",
   "execution_count": 88,
   "id": "974ff900",
   "metadata": {},
   "outputs": [
    {
     "data": {
      "text/plain": [
       "[1, 2, 7, 5, 6]"
      ]
     },
     "execution_count": 88,
     "metadata": {},
     "output_type": "execute_result"
    }
   ],
   "source": [
    "l2"
   ]
  },
  {
   "cell_type": "code",
   "execution_count": 89,
   "id": "8f0c02df",
   "metadata": {},
   "outputs": [
    {
     "ename": "ValueError",
     "evalue": "list.remove(x): x not in list",
     "output_type": "error",
     "traceback": [
      "\u001b[1;31m---------------------------------------------------------------------------\u001b[0m",
      "\u001b[1;31mValueError\u001b[0m                                Traceback (most recent call last)",
      "Cell \u001b[1;32mIn [89], line 1\u001b[0m\n\u001b[1;32m----> 1\u001b[0m \u001b[43ml2\u001b[49m\u001b[38;5;241;43m.\u001b[39;49m\u001b[43mremove\u001b[49m\u001b[43m(\u001b[49m\u001b[38;5;241;43m8\u001b[39;49m\u001b[43m)\u001b[49m \u001b[38;5;66;03m#if that value is not present in list then we get value error \u001b[39;00m\n",
      "\u001b[1;31mValueError\u001b[0m: list.remove(x): x not in list"
     ]
    }
   ],
   "source": [
    "l2.remove(8) #if that value is not present in list then we get value error "
   ]
  },
  {
   "cell_type": "code",
   "execution_count": 90,
   "id": "0f001e57",
   "metadata": {},
   "outputs": [],
   "source": [
    "l2.append([2,3,4])"
   ]
  },
  {
   "cell_type": "code",
   "execution_count": 91,
   "id": "3e5f7fe9",
   "metadata": {},
   "outputs": [
    {
     "data": {
      "text/plain": [
       "[1, 2, 7, 5, 6, [2, 3, 4]]"
      ]
     },
     "execution_count": 91,
     "metadata": {},
     "output_type": "execute_result"
    }
   ],
   "source": [
    "l2"
   ]
  },
  {
   "cell_type": "code",
   "execution_count": 92,
   "id": "9e502d38",
   "metadata": {},
   "outputs": [
    {
     "ename": "ValueError",
     "evalue": "list.remove(x): x not in list",
     "output_type": "error",
     "traceback": [
      "\u001b[1;31m---------------------------------------------------------------------------\u001b[0m",
      "\u001b[1;31mValueError\u001b[0m                                Traceback (most recent call last)",
      "Cell \u001b[1;32mIn [92], line 2\u001b[0m\n\u001b[0;32m      1\u001b[0m \u001b[38;5;66;03m#if we want remove data from list of list \u001b[39;00m\n\u001b[1;32m----> 2\u001b[0m \u001b[43ml2\u001b[49m\u001b[38;5;241;43m.\u001b[39;49m\u001b[43mremove\u001b[49m\u001b[43m(\u001b[49m\u001b[43ml2\u001b[49m\u001b[43m[\u001b[49m\u001b[38;5;241;43m5\u001b[39;49m\u001b[43m]\u001b[49m\u001b[43m[\u001b[49m\u001b[38;5;241;43m1\u001b[39;49m\u001b[43m]\u001b[49m\u001b[43m)\u001b[49m\n",
      "\u001b[1;31mValueError\u001b[0m: list.remove(x): x not in list"
     ]
    }
   ],
   "source": [
    "#if we want remove data from list of list \n",
    "l2.remove(l2[5][1])"
   ]
  },
  {
   "cell_type": "code",
   "execution_count": 93,
   "id": "4d9cb3dd",
   "metadata": {},
   "outputs": [
    {
     "data": {
      "text/plain": [
       "3"
      ]
     },
     "execution_count": 93,
     "metadata": {},
     "output_type": "execute_result"
    }
   ],
   "source": [
    "l2[5][1]"
   ]
  },
  {
   "cell_type": "code",
   "execution_count": 94,
   "id": "3ec78e71",
   "metadata": {},
   "outputs": [],
   "source": [
    "l2[5].remove(3) #if we want to remove data from list of list"
   ]
  },
  {
   "cell_type": "code",
   "execution_count": 95,
   "id": "82c9317c",
   "metadata": {},
   "outputs": [
    {
     "data": {
      "text/plain": [
       "[1, 2, 7, 5, 6, [2, 4]]"
      ]
     },
     "execution_count": 95,
     "metadata": {},
     "output_type": "execute_result"
    }
   ],
   "source": [
    "l2"
   ]
  },
  {
   "cell_type": "code",
   "execution_count": 96,
   "id": "cec1c17e",
   "metadata": {},
   "outputs": [],
   "source": [
    "l2.append(\"king\")"
   ]
  },
  {
   "cell_type": "code",
   "execution_count": 97,
   "id": "1cfa416d",
   "metadata": {},
   "outputs": [
    {
     "data": {
      "text/plain": [
       "[1, 2, 7, 5, 6, [2, 4], 'king']"
      ]
     },
     "execution_count": 97,
     "metadata": {},
     "output_type": "execute_result"
    }
   ],
   "source": [
    "l2"
   ]
  },
  {
   "cell_type": "code",
   "execution_count": 98,
   "id": "36b58b59",
   "metadata": {},
   "outputs": [
    {
     "data": {
      "text/plain": [
       "'king'"
      ]
     },
     "execution_count": 98,
     "metadata": {},
     "output_type": "execute_result"
    }
   ],
   "source": [
    "l2[6]"
   ]
  },
  {
   "cell_type": "code",
   "execution_count": 100,
   "id": "f8869e11",
   "metadata": {},
   "outputs": [
    {
     "ename": "AttributeError",
     "evalue": "'str' object has no attribute 'remove'",
     "output_type": "error",
     "traceback": [
      "\u001b[1;31m---------------------------------------------------------------------------\u001b[0m",
      "\u001b[1;31mAttributeError\u001b[0m                            Traceback (most recent call last)",
      "Cell \u001b[1;32mIn [100], line 1\u001b[0m\n\u001b[1;32m----> 1\u001b[0m \u001b[43ml2\u001b[49m\u001b[43m[\u001b[49m\u001b[38;5;241;43m6\u001b[39;49m\u001b[43m]\u001b[49m\u001b[38;5;241;43m.\u001b[39;49m\u001b[43mremove\u001b[49m(i) \u001b[38;5;66;03m#string is immutable thats why we can not remove data \u001b[39;00m\n",
      "\u001b[1;31mAttributeError\u001b[0m: 'str' object has no attribute 'remove'"
     ]
    }
   ],
   "source": [
    "l2[6].remove(i) #string is immutable thats why we can not remove data "
   ]
  },
  {
   "cell_type": "code",
   "execution_count": 101,
   "id": "2212f688",
   "metadata": {},
   "outputs": [
    {
     "data": {
      "text/plain": [
       "[1, 2, 7, 5, 6, [2, 4], 'king']"
      ]
     },
     "execution_count": 101,
     "metadata": {},
     "output_type": "execute_result"
    }
   ],
   "source": [
    "l2"
   ]
  },
  {
   "cell_type": "code",
   "execution_count": 103,
   "id": "146ea3ed",
   "metadata": {},
   "outputs": [],
   "source": [
    "l2.append(2)"
   ]
  },
  {
   "cell_type": "code",
   "execution_count": 104,
   "id": "4b8fb470",
   "metadata": {},
   "outputs": [
    {
     "data": {
      "text/plain": [
       "[1, 2, 7, 5, 6, [2, 4], 'king', 2]"
      ]
     },
     "execution_count": 104,
     "metadata": {},
     "output_type": "execute_result"
    }
   ],
   "source": [
    "l2"
   ]
  },
  {
   "cell_type": "code",
   "execution_count": 105,
   "id": "642a1cf4",
   "metadata": {},
   "outputs": [],
   "source": [
    "l2.remove(2)"
   ]
  },
  {
   "cell_type": "code",
   "execution_count": 106,
   "id": "27afdb60",
   "metadata": {},
   "outputs": [
    {
     "data": {
      "text/plain": [
       "[1, 7, 5, 6, [2, 4], 'king', 2]"
      ]
     },
     "execution_count": 106,
     "metadata": {},
     "output_type": "execute_result"
    }
   ],
   "source": [
    "l2"
   ]
  },
  {
   "cell_type": "code",
   "execution_count": 107,
   "id": "35205474",
   "metadata": {},
   "outputs": [],
   "source": [
    "#remove can remove first data wich given by usere he can not delete second data \n",
    "# if we habe list [1,2,2] and we set remove(2) then he can remove first 2 not seond"
   ]
  },
  {
   "cell_type": "code",
   "execution_count": 108,
   "id": "f0fcc757",
   "metadata": {},
   "outputs": [
    {
     "data": {
      "text/plain": [
       "[1, 7, 5, 6, [2, 4], 'king', 2]"
      ]
     },
     "execution_count": 108,
     "metadata": {},
     "output_type": "execute_result"
    }
   ],
   "source": [
    "l2"
   ]
  },
  {
   "cell_type": "code",
   "execution_count": 109,
   "id": "556d580f",
   "metadata": {},
   "outputs": [
    {
     "data": {
      "text/plain": [
       "[2, 'king', [2, 4], 6, 5, 7, 1]"
      ]
     },
     "execution_count": 109,
     "metadata": {},
     "output_type": "execute_result"
    }
   ],
   "source": [
    "l2[::-1]"
   ]
  },
  {
   "cell_type": "code",
   "execution_count": 110,
   "id": "b84a359f",
   "metadata": {},
   "outputs": [
    {
     "data": {
      "text/plain": [
       "[1, 7, 5, 6, [2, 4], 'king', 2]"
      ]
     },
     "execution_count": 110,
     "metadata": {},
     "output_type": "execute_result"
    }
   ],
   "source": [
    "l2"
   ]
  },
  {
   "cell_type": "code",
   "execution_count": 111,
   "id": "1e3f5867",
   "metadata": {},
   "outputs": [],
   "source": [
    "l2.reverse()"
   ]
  },
  {
   "cell_type": "code",
   "execution_count": 112,
   "id": "e56f1a38",
   "metadata": {},
   "outputs": [
    {
     "data": {
      "text/plain": [
       "[2, 'king', [2, 4], 6, 5, 7, 1]"
      ]
     },
     "execution_count": 112,
     "metadata": {},
     "output_type": "execute_result"
    }
   ],
   "source": [
    "l2"
   ]
  },
  {
   "cell_type": "code",
   "execution_count": 113,
   "id": "60b588e5",
   "metadata": {},
   "outputs": [],
   "source": [
    "#difference between revers() and l2[::-1] is reveres can reverse contend permanantly and -1 can revers for that time \n",
    "\n",
    "#-1 is temperory revers and revers() is permanant reverse"
   ]
  },
  {
   "cell_type": "code",
   "execution_count": 2,
   "id": "7ed7cd3e",
   "metadata": {},
   "outputs": [],
   "source": [
    "l2 = [2, 'king', [2, 4], 6, 5, 7, 1]"
   ]
  },
  {
   "cell_type": "code",
   "execution_count": 3,
   "id": "053b401d",
   "metadata": {},
   "outputs": [
    {
     "data": {
      "text/plain": [
       "[2, 'king', [2, 4], 6, 5, 7, 1]"
      ]
     },
     "execution_count": 3,
     "metadata": {},
     "output_type": "execute_result"
    }
   ],
   "source": [
    "l2"
   ]
  },
  {
   "cell_type": "code",
   "execution_count": 5,
   "id": "d8e0f4af",
   "metadata": {},
   "outputs": [
    {
     "ename": "TypeError",
     "evalue": "'<' not supported between instances of 'str' and 'int'",
     "output_type": "error",
     "traceback": [
      "\u001b[1;31m---------------------------------------------------------------------------\u001b[0m",
      "\u001b[1;31mTypeError\u001b[0m                                 Traceback (most recent call last)",
      "Cell \u001b[1;32mIn [5], line 1\u001b[0m\n\u001b[1;32m----> 1\u001b[0m \u001b[43ml2\u001b[49m\u001b[38;5;241;43m.\u001b[39;49m\u001b[43msort\u001b[49m\u001b[43m(\u001b[49m\u001b[43m)\u001b[49m \u001b[38;5;66;03m#in this example list l2 has different data types thats why we got error \u001b[39;00m\n",
      "\u001b[1;31mTypeError\u001b[0m: '<' not supported between instances of 'str' and 'int'"
     ]
    }
   ],
   "source": [
    "l2.sort() #in this example list l2 has different data types thats why we got error "
   ]
  },
  {
   "cell_type": "code",
   "execution_count": 6,
   "id": "2d20b19d",
   "metadata": {},
   "outputs": [],
   "source": [
    "l3 = [8,6,4,2,1]"
   ]
  },
  {
   "cell_type": "code",
   "execution_count": 9,
   "id": "2e17d666",
   "metadata": {},
   "outputs": [],
   "source": [
    "l3.sort() #in this list list containd same data type"
   ]
  },
  {
   "cell_type": "code",
   "execution_count": 10,
   "id": "ae3d168a",
   "metadata": {},
   "outputs": [
    {
     "data": {
      "text/plain": [
       "[1, 2, 4, 6, 8]"
      ]
     },
     "execution_count": 10,
     "metadata": {},
     "output_type": "execute_result"
    }
   ],
   "source": [
    "l3"
   ]
  },
  {
   "cell_type": "code",
   "execution_count": 11,
   "id": "b5399e17",
   "metadata": {},
   "outputs": [],
   "source": [
    "l4 = ['a','z','d','c']"
   ]
  },
  {
   "cell_type": "code",
   "execution_count": 12,
   "id": "fdc7fc7e",
   "metadata": {},
   "outputs": [],
   "source": [
    "l4.sort()"
   ]
  },
  {
   "cell_type": "code",
   "execution_count": 13,
   "id": "4b3e3211",
   "metadata": {},
   "outputs": [
    {
     "data": {
      "text/plain": [
       "['a', 'c', 'd', 'z']"
      ]
     },
     "execution_count": 13,
     "metadata": {},
     "output_type": "execute_result"
    }
   ],
   "source": [
    "l4"
   ]
  },
  {
   "cell_type": "code",
   "execution_count": 15,
   "id": "97d650a7",
   "metadata": {},
   "outputs": [],
   "source": [
    "#sort() function use for sort similar type of data \n",
    "#sort() function sort data permanatly"
   ]
  },
  {
   "cell_type": "code",
   "execution_count": 16,
   "id": "18f01555",
   "metadata": {},
   "outputs": [],
   "source": [
    "l4.sort(reverse=True)"
   ]
  },
  {
   "cell_type": "code",
   "execution_count": 17,
   "id": "35c4dbe6",
   "metadata": {},
   "outputs": [
    {
     "data": {
      "text/plain": [
       "['z', 'd', 'c', 'a']"
      ]
     },
     "execution_count": 17,
     "metadata": {},
     "output_type": "execute_result"
    }
   ],
   "source": [
    "l4"
   ]
  },
  {
   "cell_type": "code",
   "execution_count": 22,
   "id": "f2d3f409",
   "metadata": {},
   "outputs": [
    {
     "data": {
      "text/plain": [
       "2"
      ]
     },
     "execution_count": 22,
     "metadata": {},
     "output_type": "execute_result"
    }
   ],
   "source": [
    "l4.index('c') #use for find index of data (first occurance)"
   ]
  },
  {
   "cell_type": "code",
   "execution_count": 23,
   "id": "e681a757",
   "metadata": {},
   "outputs": [
    {
     "data": {
      "text/plain": [
       "1"
      ]
     },
     "execution_count": 23,
     "metadata": {},
     "output_type": "execute_result"
    }
   ],
   "source": [
    "l4.count('d')#it tells how many times 'd' is comeing over in list "
   ]
  },
  {
   "cell_type": "code",
   "execution_count": 24,
   "id": "175de4bb",
   "metadata": {},
   "outputs": [],
   "source": [
    "l4[1] = 'k' #list is mutebal"
   ]
  },
  {
   "cell_type": "code",
   "execution_count": 25,
   "id": "6655e183",
   "metadata": {},
   "outputs": [
    {
     "data": {
      "text/plain": [
       "['z', 'k', 'c', 'a']"
      ]
     },
     "execution_count": 25,
     "metadata": {},
     "output_type": "execute_result"
    }
   ],
   "source": [
    "l4"
   ]
  },
  {
   "cell_type": "code",
   "execution_count": 26,
   "id": "1e42e71a",
   "metadata": {},
   "outputs": [],
   "source": [
    "s = 'kiran'"
   ]
  },
  {
   "cell_type": "code",
   "execution_count": 29,
   "id": "f00a2030",
   "metadata": {},
   "outputs": [
    {
     "data": {
      "text/plain": [
       "'jiran'"
      ]
     },
     "execution_count": 29,
     "metadata": {},
     "output_type": "execute_result"
    }
   ],
   "source": [
    "s.replace('k','j') #in this example we can just chaneg j for some time \n",
    "                   #change is not for permanatly "
   ]
  },
  {
   "cell_type": "code",
   "execution_count": 30,
   "id": "a3450755",
   "metadata": {},
   "outputs": [
    {
     "data": {
      "text/plain": [
       "'kiran'"
      ]
     },
     "execution_count": 30,
     "metadata": {},
     "output_type": "execute_result"
    }
   ],
   "source": [
    "s"
   ]
  },
  {
   "cell_type": "markdown",
   "id": "c28ea293",
   "metadata": {},
   "source": [
    "# tuple"
   ]
  },
  {
   "cell_type": "code",
   "execution_count": 31,
   "id": "a43ad18e",
   "metadata": {},
   "outputs": [],
   "source": [
    "t = (1,2,3)"
   ]
  },
  {
   "cell_type": "code",
   "execution_count": 32,
   "id": "e56d8eea",
   "metadata": {},
   "outputs": [
    {
     "data": {
      "text/plain": [
       "(1, 2, 3)"
      ]
     },
     "execution_count": 32,
     "metadata": {},
     "output_type": "execute_result"
    }
   ],
   "source": [
    "t"
   ]
  },
  {
   "cell_type": "code",
   "execution_count": 35,
   "id": "b297e062",
   "metadata": {},
   "outputs": [],
   "source": [
    "#tuple is immutable in natur we cannot cahange values of tuple \n",
    "#we can not perform all operation on tuples as compair to list"
   ]
  },
  {
   "cell_type": "code",
   "execution_count": 36,
   "id": "7d52f1ad",
   "metadata": {},
   "outputs": [
    {
     "data": {
      "text/plain": [
       "2"
      ]
     },
     "execution_count": 36,
     "metadata": {},
     "output_type": "execute_result"
    }
   ],
   "source": [
    "t[1]"
   ]
  },
  {
   "cell_type": "code",
   "execution_count": 38,
   "id": "e82de673",
   "metadata": {},
   "outputs": [
    {
     "data": {
      "text/plain": [
       "(1, 2, 3)"
      ]
     },
     "execution_count": 38,
     "metadata": {},
     "output_type": "execute_result"
    }
   ],
   "source": [
    "t[:]"
   ]
  },
  {
   "cell_type": "code",
   "execution_count": 39,
   "id": "1d9ce556",
   "metadata": {},
   "outputs": [
    {
     "data": {
      "text/plain": [
       "tuple"
      ]
     },
     "execution_count": 39,
     "metadata": {},
     "output_type": "execute_result"
    }
   ],
   "source": [
    "type(t)"
   ]
  },
  {
   "cell_type": "code",
   "execution_count": 40,
   "id": "4aed3477",
   "metadata": {},
   "outputs": [
    {
     "data": {
      "text/plain": [
       "(3, 2, 1)"
      ]
     },
     "execution_count": 40,
     "metadata": {},
     "output_type": "execute_result"
    }
   ],
   "source": [
    "t[::-1]"
   ]
  },
  {
   "cell_type": "code",
   "execution_count": 42,
   "id": "202ce1c8",
   "metadata": {},
   "outputs": [
    {
     "ename": "TypeError",
     "evalue": "'tuple' object does not support item assignment",
     "output_type": "error",
     "traceback": [
      "\u001b[1;31m---------------------------------------------------------------------------\u001b[0m",
      "\u001b[1;31mTypeError\u001b[0m                                 Traceback (most recent call last)",
      "Cell \u001b[1;32mIn [42], line 1\u001b[0m\n\u001b[1;32m----> 1\u001b[0m \u001b[43mt\u001b[49m\u001b[43m[\u001b[49m\u001b[38;5;241;43m0\u001b[39;49m\u001b[43m]\u001b[49m \u001b[38;5;241m=\u001b[39m \u001b[38;5;241m5\u001b[39m \u001b[38;5;66;03m#immutable\u001b[39;00m\n",
      "\u001b[1;31mTypeError\u001b[0m: 'tuple' object does not support item assignment"
     ]
    }
   ],
   "source": [
    "t[0] = 5 #immutable"
   ]
  },
  {
   "cell_type": "code",
   "execution_count": 43,
   "id": "e696b288",
   "metadata": {},
   "outputs": [
    {
     "ename": "AttributeError",
     "evalue": "'tuple' object has no attribute 'append'",
     "output_type": "error",
     "traceback": [
      "\u001b[1;31m---------------------------------------------------------------------------\u001b[0m",
      "\u001b[1;31mAttributeError\u001b[0m                            Traceback (most recent call last)",
      "Cell \u001b[1;32mIn [43], line 1\u001b[0m\n\u001b[1;32m----> 1\u001b[0m \u001b[43mt\u001b[49m\u001b[38;5;241;43m.\u001b[39;49m\u001b[43mappend\u001b[49m(\u001b[38;5;241m5\u001b[39m)\n",
      "\u001b[1;31mAttributeError\u001b[0m: 'tuple' object has no attribute 'append'"
     ]
    }
   ],
   "source": [
    "t.append(5)"
   ]
  },
  {
   "cell_type": "code",
   "execution_count": 44,
   "id": "bb58fc91",
   "metadata": {},
   "outputs": [],
   "source": [
    "#we can not change , replace or update data in tuple"
   ]
  },
  {
   "cell_type": "code",
   "execution_count": 45,
   "id": "191eff26",
   "metadata": {},
   "outputs": [
    {
     "data": {
      "text/plain": [
       "(1, 2, 3)"
      ]
     },
     "execution_count": 45,
     "metadata": {},
     "output_type": "execute_result"
    }
   ],
   "source": [
    "t"
   ]
  },
  {
   "cell_type": "code",
   "execution_count": 46,
   "id": "1b8c6cec",
   "metadata": {},
   "outputs": [
    {
     "data": {
      "text/plain": [
       "1883757741888"
      ]
     },
     "execution_count": 46,
     "metadata": {},
     "output_type": "execute_result"
    }
   ],
   "source": [
    "id(t)"
   ]
  },
  {
   "cell_type": "code",
   "execution_count": 47,
   "id": "da70e6ac",
   "metadata": {},
   "outputs": [
    {
     "data": {
      "text/plain": [
       "1883758243904"
      ]
     },
     "execution_count": 47,
     "metadata": {},
     "output_type": "execute_result"
    }
   ],
   "source": [
    "id(t[::-1])"
   ]
  },
  {
   "cell_type": "code",
   "execution_count": 48,
   "id": "0b29cf2e",
   "metadata": {},
   "outputs": [
    {
     "data": {
      "text/plain": [
       "1"
      ]
     },
     "execution_count": 48,
     "metadata": {},
     "output_type": "execute_result"
    }
   ],
   "source": [
    "t.count(2)"
   ]
  },
  {
   "cell_type": "code",
   "execution_count": 49,
   "id": "af99f168",
   "metadata": {},
   "outputs": [
    {
     "data": {
      "text/plain": [
       "0"
      ]
     },
     "execution_count": 49,
     "metadata": {},
     "output_type": "execute_result"
    }
   ],
   "source": [
    "t.count(5)"
   ]
  },
  {
   "cell_type": "code",
   "execution_count": 50,
   "id": "6863894a",
   "metadata": {},
   "outputs": [
    {
     "data": {
      "text/plain": [
       "1"
      ]
     },
     "execution_count": 50,
     "metadata": {},
     "output_type": "execute_result"
    }
   ],
   "source": [
    "t.index(2)"
   ]
  },
  {
   "cell_type": "code",
   "execution_count": 51,
   "id": "dd0995dc",
   "metadata": {},
   "outputs": [
    {
     "ename": "ValueError",
     "evalue": "tuple.index(x): x not in tuple",
     "output_type": "error",
     "traceback": [
      "\u001b[1;31m---------------------------------------------------------------------------\u001b[0m",
      "\u001b[1;31mValueError\u001b[0m                                Traceback (most recent call last)",
      "Cell \u001b[1;32mIn [51], line 1\u001b[0m\n\u001b[1;32m----> 1\u001b[0m \u001b[43mt\u001b[49m\u001b[38;5;241;43m.\u001b[39;49m\u001b[43mindex\u001b[49m\u001b[43m(\u001b[49m\u001b[38;5;241;43m5\u001b[39;49m\u001b[43m)\u001b[49m\n",
      "\u001b[1;31mValueError\u001b[0m: tuple.index(x): x not in tuple"
     ]
    }
   ],
   "source": [
    "t.index(5)"
   ]
  },
  {
   "cell_type": "markdown",
   "id": "af8209e0",
   "metadata": {},
   "source": [
    "# set "
   ]
  },
  {
   "cell_type": "code",
   "execution_count": 52,
   "id": "207c7f5c",
   "metadata": {},
   "outputs": [],
   "source": [
    "s = {}"
   ]
  },
  {
   "cell_type": "code",
   "execution_count": 56,
   "id": "7349e2b1",
   "metadata": {},
   "outputs": [
    {
     "data": {
      "text/plain": [
       "dict"
      ]
     },
     "execution_count": 56,
     "metadata": {},
     "output_type": "execute_result"
    }
   ],
   "source": [
    "type(s)"
   ]
  },
  {
   "cell_type": "code",
   "execution_count": 57,
   "id": "bf30744d",
   "metadata": {},
   "outputs": [],
   "source": [
    "s = {1,2,3}"
   ]
  },
  {
   "cell_type": "code",
   "execution_count": 58,
   "id": "5e7779ba",
   "metadata": {},
   "outputs": [
    {
     "data": {
      "text/plain": [
       "set"
      ]
     },
     "execution_count": 58,
     "metadata": {},
     "output_type": "execute_result"
    }
   ],
   "source": [
    "type(s)"
   ]
  },
  {
   "cell_type": "code",
   "execution_count": 60,
   "id": "e26f63c2",
   "metadata": {},
   "outputs": [
    {
     "ename": "TypeError",
     "evalue": "unhashable type: 'list'",
     "output_type": "error",
     "traceback": [
      "\u001b[1;31m---------------------------------------------------------------------------\u001b[0m",
      "\u001b[1;31mTypeError\u001b[0m                                 Traceback (most recent call last)",
      "Cell \u001b[1;32mIn [60], line 1\u001b[0m\n\u001b[1;32m----> 1\u001b[0m s \u001b[38;5;241m=\u001b[39m {\u001b[38;5;241m1\u001b[39m,\u001b[38;5;241m2\u001b[39m,\u001b[38;5;241m3\u001b[39m,[\u001b[38;5;241m5\u001b[39m,\u001b[38;5;241m4\u001b[39m],\u001b[38;5;124m'\u001b[39m\u001b[38;5;124mkp\u001b[39m\u001b[38;5;124m'\u001b[39m} \u001b[38;5;66;03m#set not accept list\u001b[39;00m\n",
      "\u001b[1;31mTypeError\u001b[0m: unhashable type: 'list'"
     ]
    }
   ],
   "source": [
    "s = {1,2,3,[5,4],'kp'} #set not accept list"
   ]
  },
  {
   "cell_type": "code",
   "execution_count": 61,
   "id": "5026468f",
   "metadata": {},
   "outputs": [],
   "source": [
    "s = {1,2,3,(5,4),'kp'}"
   ]
  },
  {
   "cell_type": "code",
   "execution_count": 62,
   "id": "3ddd5582",
   "metadata": {},
   "outputs": [
    {
     "data": {
      "text/plain": [
       "{(5, 4), 1, 2, 3, 'kp'}"
      ]
     },
     "execution_count": 62,
     "metadata": {},
     "output_type": "execute_result"
    }
   ],
   "source": [
    "s"
   ]
  },
  {
   "cell_type": "code",
   "execution_count": 63,
   "id": "83d86fe0",
   "metadata": {},
   "outputs": [],
   "source": [
    "#set accept just immutable data (the data which can not cahnge)"
   ]
  },
  {
   "cell_type": "code",
   "execution_count": 64,
   "id": "6e6b4de9",
   "metadata": {},
   "outputs": [],
   "source": [
    "#set gives jut uniq element it can not accept dupicate element he takes just unique element "
   ]
  },
  {
   "cell_type": "code",
   "execution_count": 66,
   "id": "8950a20a",
   "metadata": {},
   "outputs": [],
   "source": [
    "l = [1,8,2,3,1,1,1,2,2,3,5,8]"
   ]
  },
  {
   "cell_type": "code",
   "execution_count": 67,
   "id": "27ecb458",
   "metadata": {},
   "outputs": [],
   "source": [
    "l2 = set(l)"
   ]
  },
  {
   "cell_type": "code",
   "execution_count": 68,
   "id": "c503e921",
   "metadata": {},
   "outputs": [
    {
     "data": {
      "text/plain": [
       "{1, 2, 3, 5, 8}"
      ]
     },
     "execution_count": 68,
     "metadata": {},
     "output_type": "execute_result"
    }
   ],
   "source": [
    "l2"
   ]
  },
  {
   "cell_type": "code",
   "execution_count": 69,
   "id": "11f88af5",
   "metadata": {},
   "outputs": [
    {
     "data": {
      "text/plain": [
       "[1, 2, 3, 5, 8]"
      ]
     },
     "execution_count": 69,
     "metadata": {},
     "output_type": "execute_result"
    }
   ],
   "source": [
    "list(l2)"
   ]
  },
  {
   "cell_type": "code",
   "execution_count": 70,
   "id": "8f7862d6",
   "metadata": {},
   "outputs": [],
   "source": [
    "#set is unorder data \n",
    "#set not take by defaultly data in order (set not arrange data in assending order)"
   ]
  },
  {
   "cell_type": "code",
   "execution_count": 74,
   "id": "cccd008a",
   "metadata": {},
   "outputs": [
    {
     "ename": "TypeError",
     "evalue": "'set' object is not subscriptable",
     "output_type": "error",
     "traceback": [
      "\u001b[1;31m---------------------------------------------------------------------------\u001b[0m",
      "\u001b[1;31mTypeError\u001b[0m                                 Traceback (most recent call last)",
      "Cell \u001b[1;32mIn [74], line 1\u001b[0m\n\u001b[1;32m----> 1\u001b[0m \u001b[43ms\u001b[49m\u001b[43m[\u001b[49m\u001b[43m:\u001b[49m\u001b[43m]\u001b[49m \u001b[38;5;66;03m#slicing is not work\u001b[39;00m\n",
      "\u001b[1;31mTypeError\u001b[0m: 'set' object is not subscriptable"
     ]
    }
   ],
   "source": [
    "s[:] #slicing is not work"
   ]
  },
  {
   "cell_type": "code",
   "execution_count": 73,
   "id": "ca97a5f8",
   "metadata": {},
   "outputs": [
    {
     "ename": "TypeError",
     "evalue": "'set' object is not subscriptable",
     "output_type": "error",
     "traceback": [
      "\u001b[1;31m---------------------------------------------------------------------------\u001b[0m",
      "\u001b[1;31mTypeError\u001b[0m                                 Traceback (most recent call last)",
      "Cell \u001b[1;32mIn [73], line 1\u001b[0m\n\u001b[1;32m----> 1\u001b[0m \u001b[43ms\u001b[49m\u001b[43m[\u001b[49m\u001b[38;5;241;43m0\u001b[39;49m\u001b[43m]\u001b[49m \u001b[38;5;66;03m#indexing is not work \u001b[39;00m\n",
      "\u001b[1;31mTypeError\u001b[0m: 'set' object is not subscriptable"
     ]
    }
   ],
   "source": [
    "s[0] #indexing is not work "
   ]
  },
  {
   "cell_type": "code",
   "execution_count": 79,
   "id": "0baf8541",
   "metadata": {},
   "outputs": [],
   "source": [
    "s.add(9) #set use hashing for sort data "
   ]
  },
  {
   "cell_type": "code",
   "execution_count": 80,
   "id": "694e2b25",
   "metadata": {},
   "outputs": [
    {
     "data": {
      "text/plain": [
       "{1, 2, 3, 9, 'kp'}"
      ]
     },
     "execution_count": 80,
     "metadata": {},
     "output_type": "execute_result"
    }
   ],
   "source": [
    "s"
   ]
  },
  {
   "cell_type": "code",
   "execution_count": 83,
   "id": "afcdd1fe",
   "metadata": {},
   "outputs": [],
   "source": [
    "s.remove(3)"
   ]
  },
  {
   "cell_type": "code",
   "execution_count": 84,
   "id": "9484209b",
   "metadata": {},
   "outputs": [
    {
     "data": {
      "text/plain": [
       "{1, 2, 9, 'kp'}"
      ]
     },
     "execution_count": 84,
     "metadata": {},
     "output_type": "execute_result"
    }
   ],
   "source": [
    "s"
   ]
  },
  {
   "cell_type": "code",
   "execution_count": 85,
   "id": "ee831357",
   "metadata": {},
   "outputs": [],
   "source": [
    "n2=2+3j\n",
    "n1=n2.imag"
   ]
  },
  {
   "cell_type": "code",
   "execution_count": 86,
   "id": "f2650f3a",
   "metadata": {},
   "outputs": [
    {
     "data": {
      "text/plain": [
       "(-1+3j)"
      ]
     },
     "execution_count": 86,
     "metadata": {},
     "output_type": "execute_result"
    }
   ],
   "source": [
    "n2-n1"
   ]
  },
  {
   "cell_type": "code",
   "execution_count": 87,
   "id": "78a849a5",
   "metadata": {},
   "outputs": [
    {
     "ename": "SyntaxError",
     "evalue": "invalid decimal literal (750451015.py, line 1)",
     "output_type": "error",
     "traceback": [
      "\u001b[1;36m  Cell \u001b[1;32mIn [87], line 1\u001b[1;36m\u001b[0m\n\u001b[1;33m    1_k = 5\u001b[0m\n\u001b[1;37m     ^\u001b[0m\n\u001b[1;31mSyntaxError\u001b[0m\u001b[1;31m:\u001b[0m invalid decimal literal\n"
     ]
    }
   ],
   "source": [
    "1_k = 5"
   ]
  },
  {
   "cell_type": "code",
   "execution_count": 88,
   "id": "0edeee66",
   "metadata": {},
   "outputs": [
    {
     "ename": "TypeError",
     "evalue": "'str' object does not support item assignment",
     "output_type": "error",
     "traceback": [
      "\u001b[1;31m---------------------------------------------------------------------------\u001b[0m",
      "\u001b[1;31mTypeError\u001b[0m                                 Traceback (most recent call last)",
      "Cell \u001b[1;32mIn [88], line 2\u001b[0m\n\u001b[0;32m      1\u001b[0m n \u001b[38;5;241m=\u001b[39m \u001b[38;5;124m'\u001b[39m\u001b[38;5;124mabc\u001b[39m\u001b[38;5;124m'\u001b[39m\n\u001b[1;32m----> 2\u001b[0m \u001b[43mn\u001b[49m\u001b[43m[\u001b[49m\u001b[38;5;241;43m0\u001b[39;49m\u001b[43m]\u001b[49m \u001b[38;5;241m=\u001b[39m \u001b[38;5;124m'\u001b[39m\u001b[38;5;124mg\u001b[39m\u001b[38;5;124m'\u001b[39m\n",
      "\u001b[1;31mTypeError\u001b[0m: 'str' object does not support item assignment"
     ]
    }
   ],
   "source": [
    "n = 'abc'\n",
    "n[0] = 'g'"
   ]
  },
  {
   "cell_type": "code",
   "execution_count": 89,
   "id": "5f5b5b16",
   "metadata": {},
   "outputs": [
    {
     "data": {
      "text/plain": [
       "False"
      ]
     },
     "execution_count": 89,
     "metadata": {},
     "output_type": "execute_result"
    }
   ],
   "source": [
    "n.isupper()"
   ]
  },
  {
   "cell_type": "code",
   "execution_count": null,
   "id": "cf1cdafd",
   "metadata": {},
   "outputs": [],
   "source": []
  }
 ],
 "metadata": {
  "kernelspec": {
   "display_name": "Python 3 (ipykernel)",
   "language": "python",
   "name": "python3"
  },
  "language_info": {
   "codemirror_mode": {
    "name": "ipython",
    "version": 3
   },
   "file_extension": ".py",
   "mimetype": "text/x-python",
   "name": "python",
   "nbconvert_exporter": "python",
   "pygments_lexer": "ipython3",
   "version": "3.11.0"
  }
 },
 "nbformat": 4,
 "nbformat_minor": 5
}
